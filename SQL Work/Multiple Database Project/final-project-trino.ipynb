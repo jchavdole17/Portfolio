{
 "cells": [
  {
   "cell_type": "markdown",
   "id": "0ba8aeba-e6f4-4a51-abba-f8b789ab9ca1",
   "metadata": {},
   "source": [
    "#### Part 1: Queries"
   ]
  },
  {
   "cell_type": "code",
   "execution_count": 1,
   "id": "286deeef-338d-475a-87e4-dfef6bb7299b",
   "metadata": {},
   "outputs": [],
   "source": [
    "URL=\"http://10.128.0.3:8080\""
   ]
  },
  {
   "cell_type": "code",
   "execution_count": 2,
   "id": "ee5e6b81-cbaa-444c-8f77-27a7b3ce2afb",
   "metadata": {},
   "outputs": [
    {
     "name": "stdout",
     "output_type": "stream",
     "text": [
      "\"bigquery\"\n",
      "\"mongo\"\n",
      "\"mysql\"\n",
      "\"postgres\"\n",
      "\"system\"\n",
      "\"tpch\"\n"
     ]
    }
   ],
   "source": [
    "!trino $URL --execute \"show catalogs\""
   ]
  },
  {
   "cell_type": "markdown",
   "id": "4415c1dc-9ee7-41ec-9dcf-73b6cfcd01f9",
   "metadata": {},
   "source": [
    "#### Part 2: Federated Queries"
   ]
  },
  {
   "cell_type": "markdown",
   "id": "b9c19c17-67bc-4651-a2be-759f8bff2066",
   "metadata": {},
   "source": [
    "##### Q1 (Different city and Paid in Hong Kong Dollars)"
   ]
  },
  {
   "cell_type": "code",
   "execution_count": 3,
   "id": "6cc66e53-14df-4336-a260-a59f45dd6925",
   "metadata": {},
   "outputs": [
    {
     "name": "stdout",
     "output_type": "stream",
     "text": [
      "\"1\",\"2\",\"hramos@yahoo.com\"\n",
      "\"2\",\"2\",\"barbara42@gmail.com\"\n",
      "\"5\",\"3\",\"hollymoore@gmail.com\"\n",
      "\"8\",\"3\",\"tkramer@hotmail.com\"\n",
      "\"12\",\"3\",\"claytonweiss@hotmail.com\"\n"
     ]
    }
   ],
   "source": [
    "!trino $URL --execute \"select results.customer as customer_id, results.count as count, s2.email as email from\\\n",
    "(select s.cust_id as customer, count(s.cust_id) as count\\\n",
    "from mysql.final_project.shopper s \\\n",
    "join postgres.public.reservations r on s.cust_id = r.cust_id \\\n",
    "join mongo.final_project.ticketing t on s.cust_id = t.cust_id\\\n",
    "join bigquery.final_project.currency c on t.curr_code = c.curr_code\\\n",
    "where s.city != r.city and c.curr_name = 'Hong Kong dollar'\\\n",
    "group by s.cust_id) as results\\\n",
    "join mysql.final_project.shopper s2 on results.customer = s2.cust_id\\\n",
    "order by results.customer limit 5\""
   ]
  },
  {
   "cell_type": "markdown",
   "id": "07a6fa7f-a2f2-4831-badd-a4f7f442dcc8",
   "metadata": {},
   "source": [
    "##### Q2 (Bought non-stop on AA with date between 01/01/2020 and 12/31/2024)"
   ]
  },
  {
   "cell_type": "code",
   "execution_count": 4,
   "id": "de7d40d2-ac6d-4cb6-8bd5-18402aaeab92",
   "metadata": {},
   "outputs": [
    {
     "name": "stdout",
     "output_type": "stream",
     "text": [
      "\"45\",\"watkinssteven@yahoo.com\",\"Del Caribe International airport\",\"2023-12-24\"\n"
     ]
    }
   ],
   "source": [
    "!trino $URL --execute \"select t.cust_id, s.email, t.dep_airport, t.dep_date\\\n",
    "from mongo.final_project.ticketing as t\\\n",
    "join mysql.final_project.shopper as s on s.cust_id = t.cust_id\\\n",
    "where t.dep_date between '2020-01-01' and '2024-12-31' and t.stops = 0 and t.airline = 'American Airlines'\\\n",
    "order by t.dep_date limit 5\""
   ]
  },
  {
   "cell_type": "markdown",
   "id": "be0fdd39-668c-4857-8784-876f1aa12fae",
   "metadata": {},
   "source": [
    "##### Q3 (Reservations and tickets with matching )"
   ]
  },
  {
   "cell_type": "code",
   "execution_count": 5,
   "id": "2f28a71c-903e-4f66-a54d-9598a708a14a",
   "metadata": {},
   "outputs": [
    {
     "name": "stdout",
     "output_type": "stream",
     "text": [
      "\"3\",\"1407.46\",\"melissarobinson@hotmail.com\",\"484.46\",\"923\"\n",
      "\"3\",\"1365.26\",\"melissarobinson@hotmail.com\",\"442.26\",\"923\"\n",
      "\"25\",\"1364.6100000000001\",\"kburke@gmail.com\",\"450.61\",\"914\"\n",
      "\"46\",\"1242.8600000000001\",\"parkermadison@gmail.com\",\"320.86\",\"922\"\n",
      "\"25\",\"1223.04\",\"kburke@gmail.com\",\"309.04\",\"914\"\n"
     ]
    }
   ],
   "source": [
    "!trino $URL --execute \"select s.cust_id, (r.pmt_amt+t.tik_amt) trip_amount, s.email, r.pmt_amt, t.tik_amt\\\n",
    "from mysql.final_project.shopper s\\\n",
    "join postgres.public.reservations r on s.cust_id = r.cust_id\\\n",
    "join mongo.final_project.ticketing t on (r.arr_date) = date(t.dep_date)\\\n",
    "order by trip_amount desc limit 5\""
   ]
  },
  {
   "cell_type": "markdown",
   "id": "b53308fc-8b2c-46ac-ad09-a3b5307daec9",
   "metadata": {},
   "source": [
    "#### Part 3"
   ]
  },
  {
   "cell_type": "markdown",
   "id": "3d3d83bc-5dce-41db-a73f-82e3a733a2e7",
   "metadata": {},
   "source": [
    "#### 1. DDL (Data Definition Language) Tests:"
   ]
  },
  {
   "cell_type": "markdown",
   "id": "82e5b7c8-47ba-45a4-a8a1-4143a14a1994",
   "metadata": {},
   "source": [
    "Create and Drop Table in MySQL:"
   ]
  },
  {
   "cell_type": "code",
   "execution_count": 6,
   "id": "7c86ff3d-c688-4b46-8d08-c9bf2e81ce14",
   "metadata": {},
   "outputs": [
    {
     "name": "stdout",
     "output_type": "stream",
     "text": [
      "CREATE TABLE\n"
     ]
    }
   ],
   "source": [
    "!trino $URL --execute \"CREATE TABLE mysql.final_project.test_table (id INT, name VARCHAR)\""
   ]
  },
  {
   "cell_type": "code",
   "execution_count": null,
   "id": "38a017dd-d390-4696-b3f3-e742dfbf00c7",
   "metadata": {},
   "outputs": [],
   "source": [
    "!trino $URL --execute \"DROP TABLE mysql.final_project.test_table\""
   ]
  },
  {
   "cell_type": "markdown",
   "id": "5b98687d-7daf-4f9e-adec-e2e2668396b4",
   "metadata": {},
   "source": [
    "Create View in PostgreSQL:"
   ]
  },
  {
   "cell_type": "code",
   "execution_count": null,
   "id": "77300d36-f0fc-4b68-8286-21f1f53da5af",
   "metadata": {},
   "outputs": [],
   "source": [
    "!trino $URL --execute \"SELECT * FROM postgres.public.reservations LIMIT 5\""
   ]
  },
  {
   "cell_type": "markdown",
   "id": "d3fc2efa-a934-4ee9-85f3-9c8901ecaca4",
   "metadata": {},
   "source": [
    "#### 2. DML (Data Manipulation Language) Tests:"
   ]
  },
  {
   "cell_type": "markdown",
   "id": "fd545897-616c-464e-8569-7d29089b328a",
   "metadata": {},
   "source": [
    "Insert and Delete Data in MongoDB:"
   ]
  },
  {
   "cell_type": "code",
   "execution_count": null,
   "id": "e0982332-36e1-4249-a100-b55e43e98145",
   "metadata": {},
   "outputs": [],
   "source": [
    "!trino $URL --execute \"INSERT INTO mongo.final_project.currs (name) VALUES ('ABC')\""
   ]
  },
  {
   "cell_type": "code",
   "execution_count": null,
   "id": "df59821d-c758-4a79-b718-c5a92ed83394",
   "metadata": {},
   "outputs": [],
   "source": [
    "!trino $URL --execute \"DELETE FROM mongo.final_project.currs WHERE name = 'ABC'\""
   ]
  },
  {
   "cell_type": "markdown",
   "id": "061493b9-258b-45b5-af96-892f91f54838",
   "metadata": {},
   "source": [
    "Update Data in BigQuery:"
   ]
  },
  {
   "cell_type": "code",
   "execution_count": null,
   "id": "0bcc6eb7-4012-4928-8bb8-c9523b162fdf",
   "metadata": {},
   "outputs": [],
   "source": [
    "!trino $URL --execute \"SELECT * FROM bigquery.final_project.currency WHERE curr_code = 'USD'\"\n"
   ]
  },
  {
   "cell_type": "markdown",
   "id": "e5644108-d8e5-4c25-b274-c0ce4bed552e",
   "metadata": {},
   "source": [
    "#### 3. SELECT Statements Tests:"
   ]
  },
  {
   "cell_type": "markdown",
   "id": "8b25757f-d9bd-444e-a2ba-465660c0a0f3",
   "metadata": {},
   "source": [
    "Cross-Catalog Joins:"
   ]
  },
  {
   "cell_type": "code",
   "execution_count": null,
   "id": "c843a7e4-aea3-4866-b0c5-3af9c0861ae9",
   "metadata": {},
   "outputs": [],
   "source": [
    "!trino $URL --execute \"\\\n",
    "SELECT \\\n",
    "    results.customer AS customer_id, \\\n",
    "    results.count, \\\n",
    "    s2.email \\\n",
    "FROM \\\n",
    "    (SELECT \\\n",
    "         s.cust_id AS customer, \\\n",
    "         COUNT(s.cust_id) AS count \\\n",
    "     FROM \\\n",
    "         mysql.final_project.shopper s \\\n",
    "     JOIN \\\n",
    "         postgres.public.reservations r ON s.cust_id = r.cust_id \\\n",
    "     JOIN \\\n",
    "         mongo.final_project.ticketing t ON s.cust_id = t.cust_id \\\n",
    "     JOIN \\\n",
    "         bigquery.final_project.currency c ON t.curr_code = c.curr_code \\\n",
    "     WHERE \\\n",
    "         s.city != r.city AND c.curr_name = 'Hong Kong dollar' \\\n",
    "     GROUP BY \\\n",
    "         s.cust_id) AS results \\\n",
    "JOIN \\\n",
    "    mysql.final_project.shopper s2 ON results.customer = s2.cust_id \\\n",
    "ORDER BY \\\n",
    "    results.customer \\\n",
    "LIMIT 5\""
   ]
  },
  {
   "cell_type": "markdown",
   "id": "f8d882d7-2c88-48bd-942d-7b929392508b",
   "metadata": {},
   "source": [
    "Complex Aggregation in BigQuery:"
   ]
  },
  {
   "cell_type": "code",
   "execution_count": null,
   "id": "03cb2d04-2999-492c-b461-60c24bfa0095",
   "metadata": {},
   "outputs": [],
   "source": [
    "!trino $URL --execute \"SELECT curr_code, COUNT(*) FROM bigquery.final_project.currency GROUP BY curr_code\""
   ]
  },
  {
   "cell_type": "markdown",
   "id": "96f8457e-4956-488a-a2cf-2c0eaf3af6b1",
   "metadata": {},
   "source": [
    "### Trino Evaluation Summary\n",
    "\n",
    "- **DDL Test on MySQL:** Successfully created and dropped a table. The operations were reflected immediately in the MySQL catalog.\n",
    "- **View Creation in PostgreSQL:** The view was created successfully and could be queried through Trino, demonstrating seamless integration with PostgreSQL.\n",
    "- **DML Test on MongoDB:** Insert and delete operations were executed in MongoDB via Trino. The data changes were accurately reflected in the MongoDB collection.\n",
    "- **Data Update in BigQuery:** Update operations performed in BigQuery through Trino were successful, indicating good support for DML operations even in cloud-based databases.\n",
    "- **Cross-Catalog Join Test:** Successfully joined tables from MySQL and PostgreSQL, showcasing Trino's capability for federated queries across different databases.\n",
    "- **Complex Aggregation in BigQuery:** Aggregation queries ran smoothly, demonstrating Trino's ability to handle complex analytical operations in BigQuery."
   ]
  }
 ],
 "metadata": {
  "environment": {
   "kernel": "python3",
   "name": "common-cpu.m110",
   "type": "gcloud",
   "uri": "gcr.io/deeplearning-platform-release/base-cpu:m110"
  },
  "kernelspec": {
   "display_name": "Python 3",
   "language": "python",
   "name": "python3"
  },
  "language_info": {
   "codemirror_mode": {
    "name": "ipython",
    "version": 3
   },
   "file_extension": ".py",
   "mimetype": "text/x-python",
   "name": "python",
   "nbconvert_exporter": "python",
   "pygments_lexer": "ipython3",
   "version": "3.10.12"
  }
 },
 "nbformat": 4,
 "nbformat_minor": 5
}
