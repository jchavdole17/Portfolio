{
 "cells": [
  {
   "cell_type": "code",
   "execution_count": 1,
   "id": "978fa1ca-9dd4-42b2-a2f1-fe757c14216d",
   "metadata": {},
   "outputs": [],
   "source": [
    "HOST = \"10.42.160.9\"\n",
    "USER = \"postgres\"\n",
    "PW = \"Austin2023\"\n",
    "DB = \"postgres\""
   ]
  },
  {
   "cell_type": "code",
   "execution_count": 2,
   "id": "942a467b-9d5c-4131-a822-77749eb458ba",
   "metadata": {},
   "outputs": [],
   "source": [
    "import psycopg\n",
    "\n",
    "def connect():\n",
    "    \n",
    "    url = \"dbname='{}' user='{}' host={} port=5432 password={}\".format(DB, USER, HOST, PW)\n",
    "    connection = psycopg.connect(url)\n",
    "\n",
    "    return connection"
   ]
  },
  {
   "cell_type": "markdown",
   "id": "a6772fed-fdee-4e1a-910f-c562e0cb4584",
   "metadata": {},
   "source": [
    "#### 1. Test Connection "
   ]
  },
  {
   "cell_type": "code",
   "execution_count": 3,
   "id": "d29e8a15-0916-4b3a-8872-b1bcfc792077",
   "metadata": {},
   "outputs": [
    {
     "name": "stdout",
     "output_type": "stream",
     "text": [
      "<psycopg.Connection [IDLE] (host=10.42.160.9 database=postgres) at 0x7fbcbe07f5b0>\n"
     ]
    }
   ],
   "source": [
    "import psycopg\n",
    "\n",
    "connection = connect()\n",
    "\n",
    "print(connection)"
   ]
  },
  {
   "cell_type": "markdown",
   "id": "2c74411e-c039-428c-a411-5c89f4af1d0c",
   "metadata": {},
   "source": [
    "#### 2. Create the table (and drop it if it already exists)"
   ]
  },
  {
   "cell_type": "code",
   "execution_count": 4,
   "id": "88a1bda8-b1b8-4f26-9e5d-f61879d1951b",
   "metadata": {},
   "outputs": [
    {
     "name": "stdout",
     "output_type": "stream",
     "text": [
      "<psycopg.Connection [IDLE] (host=10.42.160.9 database=postgres) at 0x7fbcbe07f340>\n",
      "DROP TABLE IF EXISTS reservations\n",
      "CREATE TABLE reservations(\n",
      "    res_id SERIAL PRIMARY KEY,\n",
      "    cust_id INTEGER NOT NULL,\n",
      "    prp_nm VARCHAR(50) NOT NULL,\n",
      "    prp_ch VARCHAR(50) NOT NULL,\n",
      "    adr_line_1 VARCHAR(40) NOT NULL, \n",
      "    adr_line_2 VARCHAR(40),\n",
      "    city VARCHAR(29) NOT NULL,\n",
      "    state CHAR(2) NOT NULL, \n",
      "    postal_cd char(5) NOT NULL,\n",
      "    lat FLOAT NOT NULL, \n",
      "    long FLOAT NOT NULL,\n",
      "    cnt_code CHAR(2) NOT NULL,\n",
      "    arr_date DATE NOT NULL,\n",
      "    dep_date DATE NOT NULL,\n",
      "    pmt_amt FLOAT NOT NULL\n",
      ") \n",
      "Dropped reservations table\n",
      "Created reservations table\n"
     ]
    }
   ],
   "source": [
    "import psycopg\n",
    "\n",
    "connection = connect()\n",
    "print(connection)\n",
    "\n",
    "drop = 'DROP TABLE IF EXISTS reservations'\n",
    "\n",
    "create = '''CREATE TABLE reservations(\n",
    "    res_id SERIAL PRIMARY KEY,\n",
    "    cust_id INTEGER NOT NULL,\n",
    "    prp_nm VARCHAR(50) NOT NULL,\n",
    "    prp_ch VARCHAR(50) NOT NULL,\n",
    "    adr_line_1 VARCHAR(40) NOT NULL, \n",
    "    adr_line_2 VARCHAR(40),\n",
    "    city VARCHAR(29) NOT NULL,\n",
    "    state CHAR(2) NOT NULL, \n",
    "    postal_cd char(5) NOT NULL,\n",
    "    lat FLOAT NOT NULL, \n",
    "    long FLOAT NOT NULL,\n",
    "    cnt_code CHAR(2) NOT NULL,\n",
    "    arr_date DATE NOT NULL,\n",
    "    dep_date DATE NOT NULL,\n",
    "    pmt_amt FLOAT NOT NULL\n",
    ") '''\n",
    "\n",
    "print(drop)\n",
    "print(create)\n",
    "\n",
    "try:\n",
    "    \n",
    "    cursor = connection.cursor()\n",
    "    cursor.execute(drop)\n",
    "    print('Dropped reservations table')\n",
    "    \n",
    "    cursor = connection.cursor()\n",
    "    cursor.execute(create)\n",
    "    print('Created reservations table')\n",
    "    \n",
    "    connection.commit() # commit the changes \n",
    "except Exception as e:\n",
    "    print(\"Error occurred while creating reservations table:\", e)"
   ]
  },
  {
   "cell_type": "markdown",
   "id": "c7490dd7-e234-497b-aa28-54d34193fc5a",
   "metadata": {},
   "source": [
    "#### 3. Insert records into the table"
   ]
  },
  {
   "cell_type": "code",
   "execution_count": 5,
   "id": "7a177d5d-fc16-4a8c-b8e7-c94cbf6206d4",
   "metadata": {},
   "outputs": [
    {
     "name": "stdout",
     "output_type": "stream",
     "text": [
      "<psycopg.Connection [IDLE] (host=10.42.160.9 database=postgres) at 0x7fbcb7c0eb60>\n",
      "['MV', 'PS', 'NL', 'BB', 'IL', 'SE', 'RU', 'NA', 'KI', 'QA', 'MK', 'TV', 'GM', 'SD', 'CU', 'JM', 'TW', 'BY', 'VN', 'ID', 'SN', 'MA', 'UY', 'CY', 'KR', 'BZ', 'ZA', 'BN', 'LA', 'LS']\n",
      "Wrote 100 records into reservations table\n"
     ]
    }
   ],
   "source": [
    "import psycopg\n",
    "from faker import Faker\n",
    "import random\n",
    "\n",
    "fake = Faker()\n",
    "random.seed(0)\n",
    "Faker.seed(0)\n",
    "\n",
    "connection = connect()\n",
    "print(connection)\n",
    "\n",
    "sql = \"INSERT INTO reservations (cust_id, prp_nm, prp_ch, adr_line_1, adr_line_2, city, state, postal_cd, lat,\\\n",
    "       long, cnt_code, arr_date, dep_date, pmt_amt) VALUES (%s, %s, %s, %s, %s, %s, %s, %s, %s, %s, %s, %s,\\\n",
    "       %s, %s)\"\n",
    "\n",
    "records = []\n",
    "\n",
    "# we only select the 30 countries from the seed used to generate the currency table (referential integrity)\n",
    "country_codes = []\n",
    "while (len(country_codes) < 30):\n",
    "    l = fake.country_code()\n",
    "    if (l not in country_codes):\n",
    "        country_codes.append(l)\n",
    "print(country_codes)\n",
    "    \n",
    "for i in range(100):\n",
    "    cust_id = random.randint(1,50)\n",
    "    pNm = fake.company() \n",
    "    pCh = fake.company()\n",
    "    city = fake.city()\n",
    "    state = fake.state_abbr()\n",
    "    pCode = fake.postalcode() \n",
    "    lat = fake.latitude()\n",
    "    long = fake.longitude()\n",
    "    cCode =  country_codes[random.randint(0,29)]\n",
    "    aDate = fake.date_this_year()\n",
    "    dDate = fake.future_date()\n",
    "    pmt_amt = round(random.uniform(50, 500),2) # price range of reservations\n",
    "    \n",
    "    \n",
    "    add = fake.street_address()\n",
    "    st1 = \"\"\n",
    "    st2 = \"\"\n",
    "    \n",
    "    if \"Suite\" in add:\n",
    "        m = add.split(\"Suite \")\n",
    "        st1 = m[0]\n",
    "        st2 = \"Suite \" + m[1]\n",
    "    elif \"Apt.\" in add:\n",
    "        m = add.split(\"Apt. \")\n",
    "        st1 = m[0]\n",
    "        st2 = \"Apt. \" + m[1]\n",
    "    elif \"Box\" in add:\n",
    "        m = add.split(\", Box \")\n",
    "        st1 = m[0]\n",
    "        st2 = \"Box \" + m[1]\n",
    "    else:\n",
    "        st1 = add\n",
    "        st2 = None\n",
    "        \n",
    "    rec = (cust_id, pNm, pCh, st1, st2, city, state, pCode, lat, long, cCode, aDate, dDate, pmt_amt)\n",
    "    records.append(rec)\n",
    "\n",
    "try:\n",
    "    cursor = connection.cursor()\n",
    "    \n",
    "    for rec in records:\n",
    "        cursor.execute(sql, rec)\n",
    "    \n",
    "    connection.commit()\n",
    "    print(\"Wrote 100 records into reservations table\")\n",
    "        \n",
    "except Exception as e:\n",
    "    print(\"Failed to insert record into person table:\", e)"
   ]
  }
 ],
 "metadata": {
  "environment": {
   "kernel": "python3",
   "name": "common-cpu.m110",
   "type": "gcloud",
   "uri": "gcr.io/deeplearning-platform-release/base-cpu:m110"
  },
  "kernelspec": {
   "display_name": "Python 3",
   "language": "python",
   "name": "python3"
  },
  "language_info": {
   "codemirror_mode": {
    "name": "ipython",
    "version": 3
   },
   "file_extension": ".py",
   "mimetype": "text/x-python",
   "name": "python",
   "nbconvert_exporter": "python",
   "pygments_lexer": "ipython3",
   "version": "3.10.12"
  }
 },
 "nbformat": 4,
 "nbformat_minor": 5
}
