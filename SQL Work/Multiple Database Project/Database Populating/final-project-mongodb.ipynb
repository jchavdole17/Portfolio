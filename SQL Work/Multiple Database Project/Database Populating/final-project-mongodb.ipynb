{
 "cells": [
  {
   "cell_type": "code",
   "execution_count": 1,
   "id": "a8cce3ca-1053-4cee-928e-fede64f9f098",
   "metadata": {},
   "outputs": [],
   "source": [
    "# HOST = \"alex-juan.v7yky8s.mongodb.net\"\n",
    "# USER = \"alexandergarza40\"\n",
    "# PW=\"Limabean27\"\n",
    "# DB=\"final-project\""
   ]
  },
  {
   "cell_type": "code",
   "execution_count": 2,
   "id": "0fdc1f04-bead-426a-9a59-e327778c7691",
   "metadata": {},
   "outputs": [],
   "source": [
    "# from pymongo import MongoClient\n",
    "\n",
    "# def connect():\n",
    "\n",
    "#     url = \"mongodb+srv://{}:{}@{}\".format(USER, PW, HOST)\n",
    "#     connection = MongoClient(url)\n",
    "#     return connection[DB]"
   ]
  },
  {
   "cell_type": "code",
   "execution_count": 1,
   "id": "0d3a7199-c799-44aa-aaa3-b67c3696dc6d",
   "metadata": {},
   "outputs": [],
   "source": [
    "HOST = \"10.128.0.3\"\n",
    "PORT = \"27017\"\n",
    "DB = \"final_project\""
   ]
  },
  {
   "cell_type": "code",
   "execution_count": 2,
   "id": "c6ae53e5-54e5-45bd-b009-35d2a2dd8bac",
   "metadata": {},
   "outputs": [],
   "source": [
    "from pymongo import MongoClient\n",
    "\n",
    "def connect():\n",
    "    url = \"mongodb://{}:{}\".format(HOST, PORT)\n",
    "    connection = MongoClient(url)\n",
    "    print(connection)\n",
    "    return connection[DB]"
   ]
  },
  {
   "cell_type": "markdown",
   "id": "66430a1e-5023-48d7-ad75-ed54861e2b0c",
   "metadata": {},
   "source": [
    "#### 1. Test connection"
   ]
  },
  {
   "cell_type": "code",
   "execution_count": 3,
   "id": "38208e10-640f-4d83-99cf-8d6157c4d3c0",
   "metadata": {},
   "outputs": [
    {
     "name": "stdout",
     "output_type": "stream",
     "text": [
      "MongoClient(host=['10.128.0.3:27017'], document_class=dict, tz_aware=False, connect=True)\n",
      "Database(MongoClient(host=['10.128.0.3:27017'], document_class=dict, tz_aware=False, connect=True), 'final_project')\n"
     ]
    }
   ],
   "source": [
    "connection = connect()\n",
    "\n",
    "print(connection)"
   ]
  },
  {
   "cell_type": "markdown",
   "id": "fca95a9d-57aa-4e3d-bf39-b51c1a646ecc",
   "metadata": {},
   "source": [
    "#### 2. Write records into the collection"
   ]
  },
  {
   "cell_type": "code",
   "execution_count": 4,
   "id": "8acc7343-6be9-4300-8c23-6f9f965e16fb",
   "metadata": {},
   "outputs": [
    {
     "name": "stdout",
     "output_type": "stream",
     "text": [
      "[('MWK', 'Malawian kwacha'), ('NZD', 'New Zealand dollar'), ('BAM', 'Bosnia and Herzegovina convertible mark'), ('IRR', 'Iranian rial'), ('SPL', 'Seborga luigino'), ('SDG', 'Sudanese pound'), ('NGN', 'Nigerian naira'), ('KRW', 'South Korean won'), ('SBD', 'Solomon Islands dollar'), ('MKD', 'Macedonian denar'), ('UYU', 'Uruguayan peso'), ('HKD', 'Hong Kong dollar'), ('SOS', 'Somali shilling'), ('CZK', 'Czech koruna'), ('KES', 'Kenyan shilling'), ('BZD', 'Belize dollar'), ('XOF', 'West African CFA franc'), ('INR', 'Indian rupee'), ('THB', 'Thai baht'), ('WST', 'Samoan tālā'), ('DKK', 'Danish krone'), ('KYD', 'Cayman Islands dollar'), ('CAD', 'Canadian dollar'), ('BOB', 'Bolivian boliviano'), ('LRD', 'Liberian dollar'), ('RWF', 'Rwandan franc'), ('TVD', 'Tuvaluan dollar'), ('MGA', 'Malagasy ariar'), ('PGK', 'Papua New Guinean kina'), ('KZT', 'Kazakhstani tenge')]\n",
      "MongoClient(host=['10.128.0.3:27017'], document_class=dict, tz_aware=False, connect=True)\n",
      "Wrote 100 documents into collection\n"
     ]
    }
   ],
   "source": [
    "from pymongo import MongoClient\n",
    "from faker import Faker\n",
    "import random\n",
    "from faker_airtravel import AirTravelProvider\n",
    "fake = Faker()\n",
    "random.seed(0)\n",
    "Faker.seed(0)\n",
    "\n",
    "\n",
    "currs = []\n",
    "while (len(currs) < 30):\n",
    "    k = fake.currency()\n",
    "    if (k not in currs):\n",
    "        currs.append(k)\n",
    "print(currs)\n",
    "\n",
    "fake.add_provider(AirTravelProvider)\n",
    "flights = []\n",
    "for i in range(100):\n",
    "    z = fake.flight()\n",
    "    if (z not in flights):\n",
    "        flights.append(z)\n",
    "        \n",
    "f_nm = []\n",
    "for i in range(100):\n",
    "    q = fake.bothify(text=\"####\")\n",
    "    if (q not in f_nm):\n",
    "        f_nm.append(int(q))\n",
    "        \n",
    "records = []\n",
    "for i in range(100):\n",
    "    rec = {}\n",
    "    rec[\"tck_id\"] = i+1 # this is the primary key\n",
    "    rec[\"cust_id\"] = random.randint(1,50)\n",
    "    rec[\"airline\"] = flights[i][\"airline\"]\n",
    "    rec[\"flight_nm\"] = f_nm[i]\n",
    "    rec[\"dep_airport\"] = flights[i][\"origin\"][\"airport\"]\n",
    "    rec[\"arr_airport\"] = flights[i][\"destination\"][\"airport\"]\n",
    "    rec[\"dep_date\"] = str(fake.future_date())\n",
    "    rec[\"dep_time\"] = fake.time()\n",
    "    rec[\"arr_date\"] = str(fake.date_this_year())\n",
    "    rec[\"arr_time\"] = fake.time()\n",
    "    rec[\"stops\"] = random.randint(0,4) # assume 4 stops is the max\n",
    "    rec[\"tik_amt\"] = flights[i][\"price\"]\n",
    "    rec[\"curr_code\"] = currs[random.randint(0,29)][0]\n",
    "    \n",
    "    records.append(rec)\n",
    "    \n",
    "try:\n",
    "    connection = connect()\n",
    "    collection = connection[\"ticketing\"]\n",
    "\n",
    "    collection.insert_many(records)\n",
    "    print(\"Wrote 100 documents into collection\")\n",
    "except Exception as e:\n",
    "    print(\"Error occurred while writing documents:\", e)"
   ]
  },
  {
   "cell_type": "code",
   "execution_count": null,
   "id": "6920c170-fdbb-400f-ae8d-d1d225db05d2",
   "metadata": {},
   "outputs": [],
   "source": []
  }
 ],
 "metadata": {
  "environment": {
   "kernel": "python3",
   "name": "common-cpu.m110",
   "type": "gcloud",
   "uri": "gcr.io/deeplearning-platform-release/base-cpu:m110"
  },
  "kernelspec": {
   "display_name": "Python 3",
   "language": "python",
   "name": "python3"
  },
  "language_info": {
   "codemirror_mode": {
    "name": "ipython",
    "version": 3
   },
   "file_extension": ".py",
   "mimetype": "text/x-python",
   "name": "python",
   "nbconvert_exporter": "python",
   "pygments_lexer": "ipython3",
   "version": "3.10.12"
  }
 },
 "nbformat": 4,
 "nbformat_minor": 5
}
