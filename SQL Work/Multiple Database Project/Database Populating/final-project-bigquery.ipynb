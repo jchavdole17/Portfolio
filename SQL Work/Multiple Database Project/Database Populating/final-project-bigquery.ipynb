{
 "cells": [
  {
   "cell_type": "code",
   "execution_count": 1,
   "id": "bdf8c474-2d1d-42f5-83f2-58de111a4765",
   "metadata": {},
   "outputs": [],
   "source": [
    "PROJECT = \"fine-entry-397522\"\n",
    "DATASET = \"final_project\"\n",
    "REGION = \"us-central1\""
   ]
  },
  {
   "cell_type": "markdown",
   "id": "3bf00268-f870-40fb-8523-75baefda47e8",
   "metadata": {},
   "source": [
    "#### 1. Create the table (needs work)"
   ]
  },
  {
   "cell_type": "code",
   "execution_count": 2,
   "id": "a51169eb-42c3-4089-8802-6ed84dbabf01",
   "metadata": {},
   "outputs": [
    {
     "name": "stdout",
     "output_type": "stream",
     "text": [
      "CREATE OR REPLACE TABLE final_project.currency(\n",
      "    curr_code STRING NOT NULL,\n",
      "    curr_name STRING NOT NULL,\n",
      "    cntry_code STRING NOT NULL,\n",
      "    cntry_name STRING NOT NULL)\n",
      "\n"
     ]
    }
   ],
   "source": [
    "from google.cloud import bigquery\n",
    "\n",
    "client = bigquery.Client(project=PROJECT, location=REGION)\n",
    "\n",
    "ddl = '''CREATE OR REPLACE TABLE final_project.currency(\n",
    "    curr_code STRING NOT NULL,\n",
    "    curr_name STRING NOT NULL,\n",
    "    cntry_code STRING NOT NULL,\n",
    "    cntry_name STRING NOT NULL)\n",
    "'''\n",
    "\n",
    "print(ddl)\n",
    "\n",
    "try:\n",
    "    query_job = client.query(ddl)\n",
    "    query_job.result()\n",
    "except Exception as e:\n",
    "    print(\"Error occurred while creating table:\", e)"
   ]
  },
  {
   "cell_type": "markdown",
   "id": "e46be3e0-04de-45cf-a6ca-133b4af99afe",
   "metadata": {},
   "source": [
    "#### 2. Insert records into the table"
   ]
  },
  {
   "cell_type": "code",
   "execution_count": 3,
   "id": "a853496a-5b7a-43fe-affd-76b1261f2faf",
   "metadata": {},
   "outputs": [
    {
     "name": "stdout",
     "output_type": "stream",
     "text": [
      "[('MWK', 'Malawian kwacha'), ('NZD', 'New Zealand dollar'), ('BAM', 'Bosnia and Herzegovina convertible mark'), ('IRR', 'Iranian rial'), ('SPL', 'Seborga luigino'), ('SDG', 'Sudanese pound'), ('NGN', 'Nigerian naira'), ('KRW', 'South Korean won'), ('SBD', 'Solomon Islands dollar'), ('MKD', 'Macedonian denar'), ('UYU', 'Uruguayan peso'), ('HKD', 'Hong Kong dollar'), ('SOS', 'Somali shilling'), ('CZK', 'Czech koruna'), ('KES', 'Kenyan shilling'), ('BZD', 'Belize dollar'), ('XOF', 'West African CFA franc'), ('INR', 'Indian rupee'), ('THB', 'Thai baht'), ('WST', 'Samoan tālā'), ('DKK', 'Danish krone'), ('KYD', 'Cayman Islands dollar'), ('CAD', 'Canadian dollar'), ('BOB', 'Bolivian boliviano'), ('LRD', 'Liberian dollar'), ('RWF', 'Rwandan franc'), ('TVD', 'Tuvaluan dollar'), ('MGA', 'Malagasy ariar'), ('PGK', 'Papua New Guinean kina'), ('KZT', 'Kazakhstani tenge')]\n",
      "\n",
      "['MV', 'PS', 'NL', 'BB', 'IL', 'SE', 'RU', 'NA', 'KI', 'QA', 'MK', 'TV', 'GM', 'SD', 'CU', 'JM', 'TW', 'BY', 'VN', 'ID', 'SN', 'MA', 'UY', 'CY', 'KR', 'BZ', 'ZA', 'BN', 'LA', 'LS']\n",
      "\n",
      "Wrote 30 records into currency table\n"
     ]
    }
   ],
   "source": [
    "from google.cloud import bigquery\n",
    "from faker import Faker\n",
    "import random\n",
    "\n",
    "fake = Faker()\n",
    "random.seed(0)\n",
    "Faker.seed(0)\n",
    "\n",
    "client = bigquery.Client(project=PROJECT, location=REGION)\n",
    "sql = '''INSERT INTO final_project.currency (curr_code, curr_name, cntry_code, cntry_name) \n",
    "         VALUES \n",
    "      '''\n",
    "\n",
    "currs = []\n",
    "while (len(currs) < 30):\n",
    "    k = fake.currency()\n",
    "    if (k not in currs):\n",
    "        currs.append(k)\n",
    "print(currs)\n",
    "print()\n",
    "\n",
    "Faker.seed(0) # restarts seeding to be consistent with entries in other documents\n",
    "country_codes = []\n",
    "while (len(country_codes) < 30):\n",
    "    l = fake.unique.country_code()\n",
    "    if (l not in country_codes):\n",
    "        country_codes.append(l)\n",
    "print(country_codes)\n",
    "print()\n",
    "\n",
    "\n",
    "for i in range(30):\n",
    "\n",
    "    curr_code = currs[i][0]\n",
    "    curr_name = currs[i][1]\n",
    "    \n",
    "    cntry_code = country_codes[i]\n",
    "    cntry_name = fake.unique.country()\n",
    "\n",
    "    t = (curr_code, curr_name, cntry_code, cntry_name) \n",
    "    \n",
    "    if i == 29:\n",
    "        result = str(t)\n",
    "    else:\n",
    "        result = str(t) +\",\"\n",
    "    sql += result\n",
    "\n",
    "#print(sql)\n",
    "\n",
    "try:\n",
    "    query_job = client.query(sql)\n",
    "    query_job.result()\n",
    "    print('Wrote 30 records into currency table')\n",
    "    \n",
    "except Exception as e:\n",
    "    print(\"Error occurred while writing to table:\", e)"
   ]
  }
 ],
 "metadata": {
  "environment": {
   "kernel": "python3",
   "name": "common-cpu.m110",
   "type": "gcloud",
   "uri": "gcr.io/deeplearning-platform-release/base-cpu:m110"
  },
  "kernelspec": {
   "display_name": "Python 3",
   "language": "python",
   "name": "python3"
  },
  "language_info": {
   "codemirror_mode": {
    "name": "ipython",
    "version": 3
   },
   "file_extension": ".py",
   "mimetype": "text/x-python",
   "name": "python",
   "nbconvert_exporter": "python",
   "pygments_lexer": "ipython3",
   "version": "3.10.12"
  }
 },
 "nbformat": 4,
 "nbformat_minor": 5
}
