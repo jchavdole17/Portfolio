{
 "cells": [
  {
   "cell_type": "code",
   "execution_count": 1,
   "id": "235641ff-2d19-4675-b6de-c686c306fc18",
   "metadata": {},
   "outputs": [],
   "source": [
    "HOST = \"10.42.160.3\"\n",
    "USER = \"root\"\n",
    "PW = \"Austin2023\"\n",
    "DB = \"final_project\""
   ]
  },
  {
   "cell_type": "code",
   "execution_count": 2,
   "id": "394cc5d7-017b-4e45-a837-3b0890b40c17",
   "metadata": {},
   "outputs": [],
   "source": [
    "import mysql.connector\n",
    "\n",
    "def connect():\n",
    "    connection = mysql.connector.connect(\n",
    "    host=HOST,\n",
    "    user=USER,\n",
    "    password=PW,\n",
    "    database=DB,\n",
    "    autocommit=False)\n",
    "    \n",
    "    return connection"
   ]
  },
  {
   "cell_type": "markdown",
   "id": "04a49e90-ae52-475f-a799-12b3c50abf18",
   "metadata": {},
   "source": [
    "\n",
    "#### 1. Test connection"
   ]
  },
  {
   "cell_type": "code",
   "execution_count": 3,
   "id": "ebc07cee-5de2-41b1-9ef3-f2c16059bb37",
   "metadata": {},
   "outputs": [
    {
     "name": "stdout",
     "output_type": "stream",
     "text": [
      "<mysql.connector.connection_cext.CMySQLConnection object at 0x7fc942965690>\n"
     ]
    }
   ],
   "source": [
    "import mysql.connector\n",
    "\n",
    "connection = connect()\n",
    "\n",
    "print(connection)"
   ]
  },
  {
   "cell_type": "markdown",
   "id": "bc1cbcfa-eef8-4bb5-b7e6-13c2bbc20110",
   "metadata": {},
   "source": [
    "\n",
    "#### 2. Create the table (and drop it if it already exists)"
   ]
  },
  {
   "cell_type": "code",
   "execution_count": 4,
   "id": "74d5b56b-ed9a-41d9-8cfb-8c3c7d585d07",
   "metadata": {},
   "outputs": [
    {
     "name": "stdout",
     "output_type": "stream",
     "text": [
      "<mysql.connector.connection_cext.CMySQLConnection object at 0x7fc942169e10>\n",
      "DROP TABLE IF EXISTS shopper\n",
      "CREATE TABLE shopper(\n",
      "    cust_id SMALLINT NOT NULL AUTO_INCREMENT,\n",
      "    first_name VARCHAR(25) NOT NULL,\n",
      "    last_name VARCHAR(25) NOT NULL,\n",
      "    company VARCHAR(50) NOT NULL, \n",
      "    street_1 VARCHAR(50) NOT NULL,\n",
      "    street_2 VARCHAR(50),\n",
      "    city VARCHAR(30) NOT NULL,\n",
      "    county VARCHAR(30) NOT NULL, \n",
      "    state CHAR(2) NOT NULL, \n",
      "    zip CHAR(5) NOT NULL,\n",
      "    phone_1 CHAR(12) NOT NULL,\n",
      "    phone_2 CHAR(12) NOT NULL,\n",
      "    email VARCHAR(100) NOT NULL,\n",
      "    PRIMARY KEY  (cust_id)\n",
      ") \n",
      "Dropped shopper table\n",
      "Created shopper table\n"
     ]
    }
   ],
   "source": [
    "import mysql.connector\n",
    "\n",
    "connection = connect()\n",
    "print(connection)\n",
    "\n",
    "drop = 'DROP TABLE IF EXISTS shopper'\n",
    "\n",
    "create = '''CREATE TABLE shopper(\n",
    "    cust_id SMALLINT NOT NULL AUTO_INCREMENT,\n",
    "    first_name VARCHAR(25) NOT NULL,\n",
    "    last_name VARCHAR(25) NOT NULL,\n",
    "    company VARCHAR(50) NOT NULL, \n",
    "    street_1 VARCHAR(50) NOT NULL,\n",
    "    street_2 VARCHAR(50),\n",
    "    city VARCHAR(30) NOT NULL,\n",
    "    county VARCHAR(30) NOT NULL, \n",
    "    state CHAR(2) NOT NULL, \n",
    "    zip CHAR(5) NOT NULL,\n",
    "    phone_1 CHAR(12) NOT NULL,\n",
    "    phone_2 CHAR(12) NOT NULL,\n",
    "    email VARCHAR(100) NOT NULL,\n",
    "    PRIMARY KEY  (cust_id)\n",
    ") '''\n",
    "\n",
    "print(drop)\n",
    "print(create)\n",
    "\n",
    "try:\n",
    "    cursor = connection.cursor()\n",
    "    cursor.execute(drop)\n",
    "    print('Dropped shopper table')\n",
    "    \n",
    "    cursor = connection.cursor()\n",
    "    cursor.execute(create)\n",
    "    print('Created shopper table')\n",
    "except Exception as e:\n",
    "    print(\"Error occurred while creating person table:\", e)"
   ]
  },
  {
   "cell_type": "markdown",
   "id": "994f2c71-8481-48a7-8acf-6fd7235eb5ed",
   "metadata": {},
   "source": [
    "#### 3. insert records into table"
   ]
  },
  {
   "cell_type": "code",
   "execution_count": 5,
   "id": "906de80a-b9a3-4219-816e-c0ca16d2fd93",
   "metadata": {},
   "outputs": [
    {
     "name": "stdout",
     "output_type": "stream",
     "text": [
      "<mysql.connector.connection_cext.CMySQLConnection object at 0x7fc9421377c0>\n",
      "Wrote 50 records into person table\n"
     ]
    }
   ],
   "source": [
    "import mysql.connector\n",
    "from faker import Faker\n",
    "\n",
    "fake = Faker()\n",
    "Faker.seed(0)\n",
    "\n",
    "connection = connect()\n",
    "print(connection)\n",
    "\n",
    "sql = \"INSERT INTO shopper (first_name, last_name, company, street_1, street_2, city, county, state, zip,\\\n",
    "       phone_1, phone_2, email) VALUES (%s, %s, %s, %s, %s, %s, %s, %s, %s, %s, %s, %s)\"\n",
    "\n",
    "records = []\n",
    "for i in range(50):\n",
    "    fName = fake.first_name()\n",
    "    lName = fake.last_name()\n",
    "    company = fake.company()\n",
    "    city = fake.city()\n",
    "    county = fake.city()\n",
    "    state = fake.state_abbr()\n",
    "    zCode = fake.zipcode()\n",
    "    phone1 = fake.numerify(text=\"###-###-####\")\n",
    "    phone2 = fake.numerify(text=\"###-###-####\")\n",
    "    email = fake.ascii_free_email()\n",
    "    \n",
    "    \n",
    "    add = fake.street_address()\n",
    "    st1 = \"\"\n",
    "    st2 = \"\"\n",
    "    \n",
    "    if \"Suite\" in add:\n",
    "        m = add.split(\"Suite \")\n",
    "        st1 = m[0]\n",
    "        st2 = \"Suite \" + m[1]\n",
    "    elif \"Apt.\" in add:\n",
    "        m = add.split(\"Apt. \")\n",
    "        st1 = m[0]\n",
    "        st2 = \"Apt. \" + m[1]\n",
    "    elif \"Box\" in add:\n",
    "        m = add.split(\", Box \")\n",
    "        st1 = m[0]\n",
    "        st2 = \"Box \" + m[1]\n",
    "    else:\n",
    "        st1 = add\n",
    "        st2 = None\n",
    "    \n",
    "    rec = (fName, lName, company, st1, st2, city, county, state, zCode, phone1, phone2, email)\n",
    "    records.append(rec)\n",
    "\n",
    "try:\n",
    "    cursor = connection.cursor()\n",
    "    cursor.executemany(sql, records)\n",
    "    connection.commit()\n",
    "    print('Wrote 50 records into person table')\n",
    "    cursor.close()\n",
    "except Exception as e:\n",
    "    print(\"Error occurred while writing records:\", e)"
   ]
  }
 ],
 "metadata": {
  "environment": {
   "kernel": "python3",
   "name": "common-cpu.m110",
   "type": "gcloud",
   "uri": "gcr.io/deeplearning-platform-release/base-cpu:m110"
  },
  "kernelspec": {
   "display_name": "Python 3",
   "language": "python",
   "name": "python3"
  },
  "language_info": {
   "codemirror_mode": {
    "name": "ipython",
    "version": 3
   },
   "file_extension": ".py",
   "mimetype": "text/x-python",
   "name": "python",
   "nbconvert_exporter": "python",
   "pygments_lexer": "ipython3",
   "version": "3.10.12"
  }
 },
 "nbformat": 4,
 "nbformat_minor": 5
}
