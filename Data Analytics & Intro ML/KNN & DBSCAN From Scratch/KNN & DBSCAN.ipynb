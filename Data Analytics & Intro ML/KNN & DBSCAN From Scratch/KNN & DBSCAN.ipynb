{
 "cells": [
  {
   "cell_type": "markdown",
   "metadata": {},
   "source": [
    "# Assignment 10 - Clustering with K-means and DBSCAN\n",
    "(20 points)\n",
    "\n",
    "### Add your name(s) and EIDs below\n",
    "- Student Name: Juan Chavarria\n",
    "- Student UT EID: jac23763\n",
    "\n",
    "\n",
    "### Grading clarifications\n",
    "1. Before you submit:\n",
    "    - **Please do not change or remove any variable names** we give you for your answer to each question. You can use other variables if you wish, but the final answer must be stored in that variable.\n",
    "    - **Please don't use any other libraries** besides those listed in the import cell below, and those [built in to Python](https://docs.python.org/3.8/library/index.html).\n",
    "2. We will also be double-checking the autograder, so you won't lose points if your formatting causes it to deduct points (but please try to follow the points under 1).\n",
    "3. After submitting, you may see \"All test cases passed!\" for Public Tests. Please note that this doesn't mean you have correctly answered every question, as there are no public tests. We will be using a series of hidden tests to verify your answers are correct.\n",
    "\n",
    "# Clustering with K-means and DBSCAN\n",
    "\n",
    "For this assignment, we are going explore two clustering methods:\n",
    "  - **K-Means**, which creates clusters based on a distance measure\n",
    "  - **DBSCAN**, which creates clusters based on the density of the poitns in the vicinity of the data.\n",
    "  \n",
    "Using small example data sets, we will implement both algorithms and visualize the results."
   ]
  },
  {
   "cell_type": "code",
   "execution_count": 1,
   "metadata": {},
   "outputs": [],
   "source": [
    "# Do not import any libraries (i.e. sklearn, scipy, etc.), except for\n",
    "# Python builtin libraries, unless otherwise specified.\n",
    "import pandas as pd\n",
    "import matplotlib.pyplot as plt\n",
    "import numpy as np\n",
    "%matplotlib inline"
   ]
  },
  {
   "cell_type": "markdown",
   "metadata": {},
   "source": [
    "# Part 1: K-Means\n",
    "\n",
    "(**10 points total**)\n",
    "\n",
    "In the first half of the homework, we will implement the basic $k$-means clustering algorithm, and apply that algorithm to a small data set provided with the assignment in the `data_kmeans.csv` file. We will build some helper functions along the way, test them, and put it all together to apply to our small example data set. "
   ]
  },
  {
   "cell_type": "code",
   "execution_count": 2,
   "metadata": {},
   "outputs": [
    {
     "data": {
      "text/html": [
       "<div>\n",
       "<style scoped>\n",
       "    .dataframe tbody tr th:only-of-type {\n",
       "        vertical-align: middle;\n",
       "    }\n",
       "\n",
       "    .dataframe tbody tr th {\n",
       "        vertical-align: top;\n",
       "    }\n",
       "\n",
       "    .dataframe thead th {\n",
       "        text-align: right;\n",
       "    }\n",
       "</style>\n",
       "<table border=\"1\" class=\"dataframe\">\n",
       "  <thead>\n",
       "    <tr style=\"text-align: right;\">\n",
       "      <th></th>\n",
       "      <th>x</th>\n",
       "      <th>y</th>\n",
       "    </tr>\n",
       "  </thead>\n",
       "  <tbody>\n",
       "    <tr>\n",
       "      <th>0</th>\n",
       "      <td>-0.731698</td>\n",
       "      <td>-0.874311</td>\n",
       "    </tr>\n",
       "    <tr>\n",
       "      <th>1</th>\n",
       "      <td>-0.547702</td>\n",
       "      <td>-0.580320</td>\n",
       "    </tr>\n",
       "    <tr>\n",
       "      <th>2</th>\n",
       "      <td>-0.762840</td>\n",
       "      <td>-0.885572</td>\n",
       "    </tr>\n",
       "    <tr>\n",
       "      <th>3</th>\n",
       "      <td>-0.340946</td>\n",
       "      <td>-0.810411</td>\n",
       "    </tr>\n",
       "    <tr>\n",
       "      <th>4</th>\n",
       "      <td>-0.749065</td>\n",
       "      <td>-0.399218</td>\n",
       "    </tr>\n",
       "    <tr>\n",
       "      <th>...</th>\n",
       "      <td>...</td>\n",
       "      <td>...</td>\n",
       "    </tr>\n",
       "    <tr>\n",
       "      <th>445</th>\n",
       "      <td>-0.526437</td>\n",
       "      <td>0.543792</td>\n",
       "    </tr>\n",
       "    <tr>\n",
       "      <th>446</th>\n",
       "      <td>-0.706212</td>\n",
       "      <td>0.630983</td>\n",
       "    </tr>\n",
       "    <tr>\n",
       "      <th>447</th>\n",
       "      <td>-0.470187</td>\n",
       "      <td>0.763061</td>\n",
       "    </tr>\n",
       "    <tr>\n",
       "      <th>448</th>\n",
       "      <td>-0.395677</td>\n",
       "      <td>0.542105</td>\n",
       "    </tr>\n",
       "    <tr>\n",
       "      <th>449</th>\n",
       "      <td>-0.524339</td>\n",
       "      <td>0.433905</td>\n",
       "    </tr>\n",
       "  </tbody>\n",
       "</table>\n",
       "<p>450 rows × 2 columns</p>\n",
       "</div>"
      ],
      "text/plain": [
       "            x         y\n",
       "0   -0.731698 -0.874311\n",
       "1   -0.547702 -0.580320\n",
       "2   -0.762840 -0.885572\n",
       "3   -0.340946 -0.810411\n",
       "4   -0.749065 -0.399218\n",
       "..        ...       ...\n",
       "445 -0.526437  0.543792\n",
       "446 -0.706212  0.630983\n",
       "447 -0.470187  0.763061\n",
       "448 -0.395677  0.542105\n",
       "449 -0.524339  0.433905\n",
       "\n",
       "[450 rows x 2 columns]"
      ]
     },
     "execution_count": 2,
     "metadata": {},
     "output_type": "execute_result"
    }
   ],
   "source": [
    "# Load in our toy dataset.\n",
    "df_kmeans = pd.read_csv('data_kmeans.csv')\n",
    "df_kmeans"
   ]
  },
  {
   "cell_type": "markdown",
   "metadata": {},
   "source": [
    "## Q1.1 \n",
    "\n",
    "**Write a function that returns $k$ random rows from a data frame**.\n",
    "- To initialize the centroids, we pick $k$ random points from a DataFrame.\n",
    "- Write a function `init_centroids(df_data, k)` that accepts two parameters:\n",
    "    - A DataFrame `df_data`\n",
    "    - An integer `k`.\n",
    "- `init_centroids` should return the initial centroids for our k-means algorithm as a DataFrame.\n",
    "\n",
    "*Notes*: \n",
    "- The index column of the returned DataFrame should range from $0$ to $(k - 1)$ inclusive so that we can use these as the centroid labels.  \n",
    "- Make sure this function can handle any arbitrary number of features, not just our `x` and `y` columns.\n",
    "- You **must** use the pandas [`sample`](https://pandas.pydata.org/pandas-docs/stable/reference/api/pandas.DataFrame.sample.html) method, with a random state of 42.\n",
    "\n",
    "(**1 points**)"
   ]
  },
  {
   "cell_type": "markdown",
   "metadata": {},
   "source": [
    "<!-- BEGIN QUESTION -->\n",
    "\n"
   ]
  },
  {
   "cell_type": "code",
   "execution_count": 3,
   "metadata": {
    "tags": []
   },
   "outputs": [],
   "source": [
    "def init_centroids(df_data: pd.DataFrame, k: int) -> pd.DataFrame:\n",
    "    \"\"\"Pick k random points from the dataset as the initial centroids for our\n",
    "    k-means clustering algorithm.\n",
    "    \"\"\"\n",
    "    df_centroids = df_data.sample(n = k, random_state = 42, axis = 0)\n",
    "    return df_centroids "
   ]
  },
  {
   "cell_type": "code",
   "execution_count": 4,
   "metadata": {
    "tags": []
   },
   "outputs": [
    {
     "data": {
      "text/html": [
       "<div>\n",
       "<style scoped>\n",
       "    .dataframe tbody tr th:only-of-type {\n",
       "        vertical-align: middle;\n",
       "    }\n",
       "\n",
       "    .dataframe tbody tr th {\n",
       "        vertical-align: top;\n",
       "    }\n",
       "\n",
       "    .dataframe thead th {\n",
       "        text-align: right;\n",
       "    }\n",
       "</style>\n",
       "<table border=\"1\" class=\"dataframe\">\n",
       "  <thead>\n",
       "    <tr style=\"text-align: right;\">\n",
       "      <th></th>\n",
       "      <th>x</th>\n",
       "      <th>y</th>\n",
       "    </tr>\n",
       "  </thead>\n",
       "  <tbody>\n",
       "    <tr>\n",
       "      <th>407</th>\n",
       "      <td>-0.633437</td>\n",
       "      <td>0.488756</td>\n",
       "    </tr>\n",
       "    <tr>\n",
       "      <th>444</th>\n",
       "      <td>-0.597736</td>\n",
       "      <td>0.632194</td>\n",
       "    </tr>\n",
       "    <tr>\n",
       "      <th>117</th>\n",
       "      <td>-0.635867</td>\n",
       "      <td>0.166613</td>\n",
       "    </tr>\n",
       "    <tr>\n",
       "      <th>30</th>\n",
       "      <td>-0.539351</td>\n",
       "      <td>-0.875532</td>\n",
       "    </tr>\n",
       "    <tr>\n",
       "      <th>415</th>\n",
       "      <td>-0.588597</td>\n",
       "      <td>0.293062</td>\n",
       "    </tr>\n",
       "    <tr>\n",
       "      <th>157</th>\n",
       "      <td>-0.127985</td>\n",
       "      <td>-0.136639</td>\n",
       "    </tr>\n",
       "    <tr>\n",
       "      <th>325</th>\n",
       "      <td>0.342579</td>\n",
       "      <td>0.211717</td>\n",
       "    </tr>\n",
       "  </tbody>\n",
       "</table>\n",
       "</div>"
      ],
      "text/plain": [
       "            x         y\n",
       "407 -0.633437  0.488756\n",
       "444 -0.597736  0.632194\n",
       "117 -0.635867  0.166613\n",
       "30  -0.539351 -0.875532\n",
       "415 -0.588597  0.293062\n",
       "157 -0.127985 -0.136639\n",
       "325  0.342579  0.211717"
      ]
     },
     "execution_count": 4,
     "metadata": {},
     "output_type": "execute_result"
    }
   ],
   "source": [
    "# Test our init_centroids function\n",
    "df_centroids = init_centroids(df_kmeans, 7)\n",
    "df_centroids"
   ]
  },
  {
   "cell_type": "markdown",
   "metadata": {},
   "source": [
    "<!-- END QUESTION -->\n",
    "\n",
    "## Q1.2 \n",
    "\n",
    "**Write a function to assign every row in a data frame to a centroid**\n",
    "\n",
    "- Write a function, `assign_to_centroid`, that accepts two parameters:\n",
    "  - A DataFrame `df_data`, that represents our data to be clustered\n",
    "  - A DataFrame `df_centroids`, which is of length `k` and contains the current centroids for our clusters. You generated this for Question 1.1.\n",
    "- `assign_to_centroid` should return a Series, the same length as `df_data`, that contains the index of the **closest centroid** in `df_centroid`.  \n",
    "  - Use Euclidean distance as your distance measure. \n",
    "\n",
    "*Example*: If a row of data contained the data point $(100, 123)$ and the three centroids were in a data frame that had the following information:\n",
    "  - Index 0 : $(34, 34)$\n",
    "  - Index 1 : $(0, 1)$\n",
    "  - Index 2 : $(83, 99)$\n",
    "  \n",
    "The `assign_to_centroid` function would assign the index $2$ to that row of data. \n",
    "\n",
    "(**2 points**)"
   ]
  },
  {
   "cell_type": "markdown",
   "metadata": {},
   "source": [
    "<!-- BEGIN QUESTION -->\n",
    "\n"
   ]
  },
  {
   "cell_type": "markdown",
   "metadata": {},
   "source": []
  },
  {
   "cell_type": "code",
   "execution_count": 5,
   "metadata": {
    "tags": []
   },
   "outputs": [],
   "source": [
    "def assign_to_centroid(df_data: pd.DataFrame, df_centroids: pd.DataFrame) -> pd.Series:\n",
    "    \"\"\"Assign each row in df_data to the nearest centroid in df_centroids.\n",
    "    Return a Series of the same length as df_data with the centroid index.\n",
    "    \"\"\"\n",
    "\n",
    "    centroids = np.zeros(len(df_data))\n",
    "    for i in range(len(df_data)): #each i is a point\n",
    "        x = df_data['x'][i]\n",
    "        y = df_data['y'][i]\n",
    "        closest = 100\n",
    "        for index, row in df_centroids.iterrows():\n",
    "            x_c = row['x']\n",
    "            y_c = row['y']\n",
    "            x_dist = (x_c - x) ** 2\n",
    "            y_dist = (y_c - y) ** 2\n",
    "            dist = np.sqrt((x_dist + y_dist))\n",
    "            if dist < closest:\n",
    "                centroids[i] = index\n",
    "                closest = dist\n",
    "                   \n",
    "    return centroids"
   ]
  },
  {
   "cell_type": "code",
   "execution_count": 6,
   "metadata": {
    "tags": []
   },
   "outputs": [
    {
     "data": {
      "text/plain": [
       "array([ 30.,  30.,  30.,  30.,  30.,  30.,  30.,  30.,  30.,  30.,  30.,\n",
       "        30.,  30.,  30.,  30.,  30.,  30.,  30.,  30.,  30.,  30.,  30.,\n",
       "        30.,  30.,  30.,  30.,  30.,  30.,  30.,  30.,  30.,  30.,  30.,\n",
       "        30.,  30.,  30.,  30.,  30.,  30.,  30.,  30.,  30.,  30.,  30.,\n",
       "        30., 444., 444., 444., 407., 444., 444., 444., 407., 407., 444.,\n",
       "       444., 444., 444., 444., 407., 444., 444., 444., 444., 444., 444.,\n",
       "       444., 444., 407., 444., 444., 444., 444., 444., 444., 444., 444.,\n",
       "       444., 444., 444., 407., 444., 444., 407., 444., 444., 407., 444.,\n",
       "       444., 444., 407., 407., 415., 415., 407., 415., 117., 444., 117.,\n",
       "       415., 407., 415., 444., 415., 415., 407., 415., 415., 415., 407.,\n",
       "       415., 117., 444., 407., 444., 415., 407., 117., 117., 415., 444.,\n",
       "       444., 117., 415., 407., 117., 407., 117., 117., 157., 117., 415.,\n",
       "       415., 415., 407., 157., 157., 157., 157., 157., 157., 157., 157.,\n",
       "       157., 157., 157., 157., 157., 157., 157., 157., 157., 157., 157.,\n",
       "       157., 157., 157., 157., 157., 157., 157., 157., 157., 157., 157.,\n",
       "       157., 157., 157., 157., 157., 157., 157., 157., 157., 157., 157.,\n",
       "       157., 157., 157., 157., 325., 325., 325., 325., 325., 325., 325.,\n",
       "       325., 325., 325., 325., 325., 325., 325., 325., 325., 325., 325.,\n",
       "       325., 325., 325., 325., 325., 325., 325., 325., 325., 325., 325.,\n",
       "       325., 325., 325., 325., 325., 325., 325., 325., 325., 325., 325.,\n",
       "       325., 325., 325., 325., 325.,  30., 117.,  30., 117., 117.,  30.,\n",
       "       117.,  30.,  30., 117.,  30., 157.,  30.,  30.,  30.,  30., 117.,\n",
       "       117.,  30., 117.,  30.,  30.,  30., 117., 117., 157.,  30.,  30.,\n",
       "        30.,  30., 117., 117.,  30., 117., 117.,  30., 117.,  30.,  30.,\n",
       "       157., 117.,  30.,  30.,  30.,  30., 444., 407., 407., 444., 407.,\n",
       "       444., 444., 444., 444., 444., 444., 444., 444., 407., 444., 444.,\n",
       "       444., 444., 407., 407., 444., 444., 444., 444., 407., 444., 407.,\n",
       "       444., 444., 444., 444., 407., 444., 407., 407., 444., 407., 444.,\n",
       "       407., 444., 444., 407., 407., 444., 444., 325., 325., 325., 325.,\n",
       "       157., 325., 325., 325., 157., 325., 325., 325., 325., 325., 325.,\n",
       "       325., 325., 157., 325., 325., 325., 325., 325., 325., 157., 157.,\n",
       "       325., 325., 157., 325., 325., 325., 325., 157., 325., 325., 325.,\n",
       "       157., 325., 325., 325., 325., 325., 325., 157., 325., 325., 325.,\n",
       "       325., 325., 325., 325., 325., 325., 325., 325., 325., 325., 325.,\n",
       "       325., 325., 325., 325., 325., 325., 325., 325., 325., 325., 325.,\n",
       "       325., 325., 325., 325., 325., 325., 325., 325., 325., 325., 325.,\n",
       "       325., 325., 325., 325., 325., 325., 325., 325., 325., 444., 444.,\n",
       "       407., 407., 407., 407., 444., 415., 444., 407., 415., 415., 407.,\n",
       "       444., 407., 407., 444., 415., 444., 444., 444., 407., 444., 407.,\n",
       "       444., 444., 407., 407., 444., 407., 415., 407., 444., 444., 407.,\n",
       "       407., 407., 407., 444., 444., 444., 444., 444., 444., 407.])"
      ]
     },
     "execution_count": 6,
     "metadata": {},
     "output_type": "execute_result"
    }
   ],
   "source": [
    "# Test our assign_to_centroid function. Do the lengths match?\n",
    "s_centroid_assignment = assign_to_centroid(df_kmeans, df_centroids)\n",
    "s_centroid_assignment"
   ]
  },
  {
   "cell_type": "markdown",
   "metadata": {},
   "source": [
    "<!-- END QUESTION -->\n",
    "\n",
    "## Q1.3 \n",
    "\n",
    "**Write a function that recomputes the centroids**\n",
    "\n",
    "- Write a function, `compute_centroids`, that acceptss two parameters:\n",
    "    - A DataFrame `df_data`, that represents our data to be clustered\n",
    "    - A Series `s_centroid_assignment` of the same length that contains the label of the currently-assigned centroid for every row in `df_data`.\n",
    "- `compute_centroids` should return the a data frame containing the mean value for each unique centroid.  These will be the new centroids we use for the next iteration of $k$-means.\n",
    "    - This will look similar to the centroid DataFrame you computed for Q1.1.\n",
    "\n",
    "*Note*: The indices in the returned data frame should correspond to the unique values in `s_centroid_assignment`. \n",
    "- For example, if I found the mean value of `df_data` using the slice corresponding to `s_centroid_assigment == 2`, then the centroid should be in the returned data frame at `.iloc[2]`. \n",
    "\n",
    "(**2 points**)\n"
   ]
  },
  {
   "cell_type": "markdown",
   "metadata": {},
   "source": [
    "<!-- BEGIN QUESTION -->\n",
    "\n"
   ]
  },
  {
   "cell_type": "code",
   "execution_count": 7,
   "metadata": {
    "tags": []
   },
   "outputs": [],
   "source": [
    "def compute_centroids(df_data: pd.DataFrame, s_centroid_assignment: pd.Series) -> pd.DataFrame:\n",
    "    \"\"\"Compute a new set of centroids, by computing the mean point of \n",
    "    each centroid over the points assigned to it.\n",
    "    \"\"\"\n",
    "    df_data_n_cent = df_data.copy()\n",
    "    df_data_n_cent[\"Centroid\"] = s_centroid_assignment\n",
    "    \n",
    "    df_new_centroids = df_data_n_cent.groupby(\"Centroid\").mean()\n",
    "    return df_new_centroids "
   ]
  },
  {
   "cell_type": "code",
   "execution_count": 8,
   "metadata": {
    "tags": []
   },
   "outputs": [
    {
     "data": {
      "text/html": [
       "<div>\n",
       "<style scoped>\n",
       "    .dataframe tbody tr th:only-of-type {\n",
       "        vertical-align: middle;\n",
       "    }\n",
       "\n",
       "    .dataframe tbody tr th {\n",
       "        vertical-align: top;\n",
       "    }\n",
       "\n",
       "    .dataframe thead th {\n",
       "        text-align: right;\n",
       "    }\n",
       "</style>\n",
       "<table border=\"1\" class=\"dataframe\">\n",
       "  <thead>\n",
       "    <tr style=\"text-align: right;\">\n",
       "      <th></th>\n",
       "      <th>x</th>\n",
       "      <th>y</th>\n",
       "    </tr>\n",
       "    <tr>\n",
       "      <th>Centroid</th>\n",
       "      <th></th>\n",
       "      <th></th>\n",
       "    </tr>\n",
       "  </thead>\n",
       "  <tbody>\n",
       "    <tr>\n",
       "      <th>30.0</th>\n",
       "      <td>-0.696694</td>\n",
       "      <td>-0.699028</td>\n",
       "    </tr>\n",
       "    <tr>\n",
       "      <th>117.0</th>\n",
       "      <td>-0.738268</td>\n",
       "      <td>-0.113830</td>\n",
       "    </tr>\n",
       "    <tr>\n",
       "      <th>157.0</th>\n",
       "      <td>-0.102365</td>\n",
       "      <td>-0.188876</td>\n",
       "    </tr>\n",
       "    <tr>\n",
       "      <th>325.0</th>\n",
       "      <td>0.523364</td>\n",
       "      <td>0.238569</td>\n",
       "    </tr>\n",
       "    <tr>\n",
       "      <th>407.0</th>\n",
       "      <td>-0.715983</td>\n",
       "      <td>0.500552</td>\n",
       "    </tr>\n",
       "    <tr>\n",
       "      <th>415.0</th>\n",
       "      <td>-0.546913</td>\n",
       "      <td>0.321364</td>\n",
       "    </tr>\n",
       "    <tr>\n",
       "      <th>444.0</th>\n",
       "      <td>-0.721574</td>\n",
       "      <td>0.708343</td>\n",
       "    </tr>\n",
       "  </tbody>\n",
       "</table>\n",
       "</div>"
      ],
      "text/plain": [
       "                 x         y\n",
       "Centroid                    \n",
       "30.0     -0.696694 -0.699028\n",
       "117.0    -0.738268 -0.113830\n",
       "157.0    -0.102365 -0.188876\n",
       "325.0     0.523364  0.238569\n",
       "407.0    -0.715983  0.500552\n",
       "415.0    -0.546913  0.321364\n",
       "444.0    -0.721574  0.708343"
      ]
     },
     "execution_count": 8,
     "metadata": {},
     "output_type": "execute_result"
    }
   ],
   "source": [
    "# Test it out\n",
    "df_new_centroids = compute_centroids( df_kmeans, s_centroid_assignment)\n",
    "df_new_centroids"
   ]
  },
  {
   "cell_type": "markdown",
   "metadata": {},
   "source": [
    "<!-- END QUESTION -->\n",
    "\n",
    "## Q1.4 \n",
    "\n",
    "**Write a function that compares two centroid data frames**\n",
    "\n",
    "- The stopping criterion for k-means is when our centroids have not moved since the last iteration.  \n",
    "- Write a function `compare_centroids` that accepts two parameters:\n",
    "    - `df_centroid_a`: A DataFrame of centroid centers (computed in Q1.1 / Q1.3)\n",
    "    - `df_centroid_b`: A DataFrame of centroid centers (computed in Q1.1 / Q1.3)\n",
    "- `compare_centroids` should return `True` or `False`, indicating if the centroids at each unique index in the data frame are equal. \n",
    "\n",
    "(**1 point**)"
   ]
  },
  {
   "cell_type": "markdown",
   "metadata": {},
   "source": [
    "<!-- BEGIN QUESTION -->\n",
    "\n"
   ]
  },
  {
   "cell_type": "code",
   "execution_count": 9,
   "metadata": {
    "tags": []
   },
   "outputs": [],
   "source": [
    "def compare_centroids(df_centroid_a: pd.DataFrame, df_centroid_b: pd.DataFrame) -> bool:\n",
    "    \"\"\"Determine if two sets of centroids are the same.\n",
    "    \"\"\"\n",
    "    centroids_match_x = df_centroid_a['x'].values == df_centroid_b['x'].values\n",
    "    centroids_match_y = df_centroid_a['y'].values == df_centroid_b['y'].values\n",
    "\n",
    "    if (np.sum(centroids_match_x) == len(df_centroid_a)) & (np.sum(centroids_match_y) == len(df_centroid_a)):\n",
    "        return True\n",
    "    else:\n",
    "        return False"
   ]
  },
  {
   "cell_type": "code",
   "execution_count": 10,
   "metadata": {
    "tags": []
   },
   "outputs": [
    {
     "name": "stdout",
     "output_type": "stream",
     "text": [
      "True\n",
      "False\n"
     ]
    }
   ],
   "source": [
    "# Test it out\n",
    "print(compare_centroids(df_new_centroids, df_new_centroids)) # Should print True\n",
    "print(compare_centroids(df_new_centroids, df_centroids)) # Should print False"
   ]
  },
  {
   "cell_type": "markdown",
   "metadata": {},
   "source": [
    "<!-- END QUESTION -->\n",
    "\n",
    "## Q1.5 \n",
    "\n",
    "**Write a function that implements k-means**\n",
    "\n",
    "- Write a function, `k_means`, that accepts two parameters:\n",
    "    - A DataFrame `df_data` with values to cluster\n",
    "    - The number of clusters to form, `k`. \n",
    "- `k_means` should return a Series the same length as `df_data` that contains the cluster assignment (an integer from $0 to $(k - 1)$ inclusive) for each row of data. \n",
    "- Your function should repeatedly adjust the clusters until they stop changing. Use the helper functions defined in the prior questions. \n",
    "\n",
    "(**2 points**)"
   ]
  },
  {
   "cell_type": "markdown",
   "metadata": {},
   "source": [
    "<!-- BEGIN QUESTION -->\n",
    "\n"
   ]
  },
  {
   "cell_type": "code",
   "execution_count": 11,
   "metadata": {
    "tags": []
   },
   "outputs": [],
   "source": [
    "def k_means(df_data: pd.DataFrame, k: int) -> pd.Series:\n",
    "    \"\"\"Perform k-means clustering on the dataset df_data, using k clusters.\n",
    "    This function returns a Series of cluster assignments for each row\n",
    "    in df_data.\n",
    "    \"\"\"\n",
    "    curr_cent = init_centroids(df_data, k)\n",
    "    val = False\n",
    "    while val is False:\n",
    "        curr_data_cent = assign_to_centroid(df_data, curr_cent)\n",
    "        new_centroids = compute_centroids(df_data, curr_data_cent)\n",
    "        val = compare_centroids(curr_cent, new_centroids)\n",
    "\n",
    "        curr_cent = new_centroids\n",
    "\n",
    "    s_cluster_assignment = curr_cent\n",
    "    \n",
    "    return s_cluster_assignment"
   ]
  },
  {
   "cell_type": "code",
   "execution_count": 12,
   "metadata": {
    "tags": []
   },
   "outputs": [
    {
     "data": {
      "text/plain": [
       "x          y        \n",
       "-0.706745  -0.614133    1\n",
       "-0.697516   0.570447    1\n",
       "-0.013510  -0.143658    1\n",
       " 0.298604   0.737194    1\n",
       " 0.759706  -0.054987    1\n",
       "Name: count, dtype: int64"
      ]
     },
     "execution_count": 12,
     "metadata": {},
     "output_type": "execute_result"
    }
   ],
   "source": [
    "# Call k_means with k = 5 to test\n",
    "s_cluster_assignment = k_means(df_kmeans, 5)\n",
    "s_cluster_assignment.value_counts()"
   ]
  },
  {
   "cell_type": "markdown",
   "metadata": {},
   "source": [
    "<!-- END QUESTION -->\n",
    "\n",
    "## Q1.6 \n",
    "\n",
    "**Plot the final clusters**\n",
    "\n",
    "Plot the points in the `df_kmeans` data frame using a 2-D scatter plot.\n",
    "- Assign a different color for each cluster. \n",
    "- Use the cluster assignments from the previous problem (`s_cluster_assignments`). There should be *five* clusters.\n",
    "- Label your axes, and give the plot a title. \n",
    "\n",
    "(**2 points - manually graded**)"
   ]
  },
  {
   "cell_type": "markdown",
   "metadata": {},
   "source": [
    "<!-- BEGIN QUESTION -->\n",
    "\n"
   ]
  },
  {
   "cell_type": "code",
   "execution_count": 13,
   "metadata": {
    "tags": []
   },
   "outputs": [
    {
     "data": {
      "image/png": "[encoded data removed]",
      "text/plain": [
       "<Figure size 640x480 with 1 Axes>"
      ]
     },
     "metadata": {},
     "output_type": "display_data"
    }
   ],
   "source": [
    "cluster_assign = assign_to_centroid(df_kmeans, s_cluster_assignment)\n",
    "plot_data = df_kmeans\n",
    "plot_data['Cluster'] = cluster_assign\n",
    "\n",
    "plot_data[plot_data['Cluster'] == 30]['x'].values\n",
    "\n",
    "for i in s_cluster_assignment.index.values:\n",
    "    x = plot_data[plot_data['Cluster'] == i]['x'].values\n",
    "    y = plot_data[plot_data['Cluster'] == i]['y'].values\n",
    "    plt.scatter(x,y, label = i)\n",
    "plt.scatter(s_cluster_assignment['x'].values,s_cluster_assignment['y'].values, color = 'black', label = 'Centroids')\n",
    "plt.xlabel('x')\n",
    "plt.ylabel('y')\n",
    "plt.title('Cluster Creation')\n",
    "plt.legend()\n",
    "plt.show()    "
   ]
  },
  {
   "cell_type": "markdown",
   "metadata": {},
   "source": [
    "<!-- END QUESTION -->\n",
    "\n",
    "# Part 2: DBSCAN\n",
    "\n",
    "\n",
    "(**10 points total**)\n",
    "\n",
    "In the first half of the homework, we will implement the DBSCAN density-based clustering algorithm, and apply that algorithm to a small data set provided with the assignment in the `data_dbscan.csv` file. As before, we will build some helper functions along the way, test them, and put it all together to apply to our small example data set. "
   ]
  },
  {
   "cell_type": "markdown",
   "metadata": {},
   "source": [
    "## Q2.1 \n",
    "\n",
    "**Load the Density Data and try K-means**\n",
    "\n",
    "1. Load in the data provided `data_dbscan.csv`\n",
    "2. Cluster this data with k-means algorithm with $k=2$.\n",
    "3. Visualize the results with a scatter plot, where the color indicates cluster membership. Label your axes, and give the plot a title. \n",
    "    - You don't have to write a description, but do you observe anything strange about the clusters? This dataset is a good example of a situation in which k-means is not good at clustering.\n",
    "\n",
    "(**2 points - manually graded**)"
   ]
  },
  {
   "cell_type": "markdown",
   "metadata": {},
   "source": [
    "<!-- BEGIN QUESTION -->\n",
    "\n"
   ]
  },
  {
   "cell_type": "code",
   "execution_count": 14,
   "metadata": {
    "tags": []
   },
   "outputs": [
    {
     "data": {
      "image/png": "[encoded data removed]",
      "text/plain": [
       "<Figure size 640x480 with 1 Axes>"
      ]
     },
     "metadata": {},
     "output_type": "display_data"
    }
   ],
   "source": [
    "# Load the DBSCAN dataset (data_dbscan)\n",
    "df_dbscan = pd.DataFrame(pd.read_csv('data_dbscan.csv'))\n",
    "df_dbscan\n",
    "\n",
    "# Call k_means with k = 2\n",
    "s_cluster_assignment = k_means(df_dbscan, 2)\n",
    "\n",
    "# Plot the results\n",
    "cluster_assign = assign_to_centroid(df_dbscan, s_cluster_assignment)\n",
    "plot_data = df_dbscan\n",
    "plot_data['Cluster'] = cluster_assign\n",
    "\n",
    "plot_data[plot_data['Cluster'] == 30]['x'].values\n",
    "\n",
    "for i in s_cluster_assignment.index.values:\n",
    "    x = plot_data[plot_data['Cluster'] == i]['x'].values\n",
    "    y = plot_data[plot_data['Cluster'] == i]['y'].values\n",
    "    plt.scatter(x,y, label = i)\n",
    "plt.scatter(s_cluster_assignment['x'].values,s_cluster_assignment['y'].values, color = 'black', label = 'Centroids')\n",
    "plt.xlabel('x')\n",
    "plt.ylabel('y')\n",
    "plt.title('Cluster Creation')\n",
    "plt.legend()\n",
    "plt.show()"
   ]
  },
  {
   "cell_type": "markdown",
   "metadata": {},
   "source": [
    "<!-- END QUESTION -->\n",
    "\n",
    "## Q2.2 \n",
    "\n",
    "**Write a function to implement RangeQuery**\n",
    "\n",
    "Implement the RangeQuery routine for DBSCAN, following the below [pseudo-code](https://en.wikipedia.org/wiki/DBSCAN#Algorithm) on Wikipedia.\n",
    "\n",
    "```\n",
    "RangeQuery(DB, distFunc, Q, eps) {\n",
    "    Neighbors N := empty list\n",
    "    for each point P in database DB {                      /* Scan all points in the database */\n",
    "        if distFunc(Q, P) ≤ eps then {                     /* Compute distance and check epsilon */\n",
    "            N := N ∪ {P}                                   /* Add to result */\n",
    "        }\n",
    "    }\n",
    "    return N\n",
    "}\n",
    "```\n",
    "\n",
    "- Your function, `range_query`. should accept three inputs:\n",
    "    - `df_data` is a DataFrame containing all the points in our dataset (`DB` in the pseudocode).\n",
    "    - `q_index` is the data point/row of interest. The actual point can be obtained by calling `df_data.iloc[q_index]`. (`Q` in the pseudocode)\n",
    "    - `eps` is a floating-point hyperparameter that indicates the radius from the point \"Q\" to search for neighbors.\n",
    "    - (`distFunc` in the pseudocode is set as the Euclidean distance. For our purposes, you don't need to pass it in as you can just hard-code this inside your function.)\n",
    "- `range_query` should return a DataFrame that is a slice of `df_data` containing **all points within `eps` distance of `Q`**, including `Q` itself.\n",
    "    - Indices should be preserved (i.e., don't call `reset_index()`).\n",
    "\n",
    "(**2 points**)"
   ]
  },
  {
   "cell_type": "markdown",
   "metadata": {},
   "source": [
    "<!-- BEGIN QUESTION -->\n",
    "\n"
   ]
  },
  {
   "cell_type": "code",
   "execution_count": 15,
   "metadata": {
    "tags": []
   },
   "outputs": [],
   "source": [
    "def range_query(df_data: pd.DataFrame, q_index: int, eps: float) -> pd.DataFrame:\n",
    "    \"\"\"RangeQuery routine for DBSCAN. For the point at index q_index, return all\n",
    "    points in the DataFrame within eps distance of the point. (L2 norm)\"\"\"\n",
    "    df_neighbors = pd.DataFrame()\n",
    "    x_point = df_data['x'][q_index]\n",
    "    y_point = df_data['y'][q_index]\n",
    "    \n",
    "    for i in range(len(df_data)):\n",
    "        x = df_data['x'][i]\n",
    "        y = df_data['y'][i]\n",
    "        x_dist = (x_point - x) ** 2\n",
    "        y_dist = (y_point - y) ** 2\n",
    "        dist = np.sqrt((x_dist + y_dist))\n",
    "        index = [i]\n",
    "        if dist <= eps:\n",
    "            data = pd.DataFrame({'x':[x], 'y':[y]})\n",
    "            data.index = index\n",
    "            df_neighbors = pd.concat([df_neighbors, data], ignore_index = False)\n",
    "    \n",
    "    return df_neighbors"
   ]
  },
  {
   "cell_type": "code",
   "execution_count": 16,
   "metadata": {
    "tags": []
   },
   "outputs": [
    {
     "data": {
      "image/png": "[encoded data removed]",
      "text/plain": [
       "<Figure size 640x480 with 1 Axes>"
      ]
     },
     "metadata": {},
     "output_type": "display_data"
    }
   ],
   "source": [
    "# Test it out.\n",
    "df_n = range_query(df_dbscan, 0, 0.1)\n",
    "\n",
    "# We've given you some plotting code to help you visualize the results.\n",
    "plt.plot( df_dbscan['x'], df_dbscan['y'], '.', alpha = 0.5 )\n",
    "plt.plot( df_n['x'], df_n['y'], 'r*')\n",
    "plt.xlabel('x')\n",
    "plt.ylabel('y')\n",
    "plt.title('Testing Range Query')\n",
    "plt.show()"
   ]
  },
  {
   "cell_type": "markdown",
   "metadata": {},
   "source": [
    "<!-- END QUESTION -->\n",
    "\n",
    "## Q2.3 \n",
    "\n",
    "**Write a function to implement DBSCAN**\n",
    "\n",
    "Implement DBSCAN, following the below [pseudo-code](https://en.wikipedia.org/wiki/DBSCAN#Algorithm) from Wikipedia. \n",
    "- This pseudocode uses set notation. If you aren't familiar with set notation, [here](http://www.math.cmu.edu/~bkell/21110-2010s/sets.html) is a handy summary.\n",
    "\n",
    "```\n",
    "DBSCAN(DB, distFunc, eps, minPts) {\n",
    "    C := 0                                                  /* Cluster counter */\n",
    "    for each point P in database DB {\n",
    "        if label(P) ≠ undefined then continue               /* Previously processed in inner loop */\n",
    "        Neighbors N := RangeQuery(DB, distFunc, P, eps)     /* Find neighbors */\n",
    "        if |N| < minPts then {                              /* Density check */\n",
    "            label(P) := Noise                               /* Label as Noise */\n",
    "            continue\n",
    "        }\n",
    "        C := C + 1                                          /* next cluster label */\n",
    "        label(P) := C                                       /* Label initial point */\n",
    "        SeedSet S := N \\ {P}                                /* Neighbors to expand */\n",
    "        for each point Q in S {                             /* Process every seed point Q */\n",
    "            if label(Q) = Noise then label(Q) := C          /* Change Noise to border point */\n",
    "            if label(Q) ≠ undefined then continue           /* Previously processed (e.g., border point) */\n",
    "            label(Q) := C                                   /* Label neighbor */\n",
    "            Neighbors N := RangeQuery(DB, distFunc, Q, eps) /* Find neighbors */\n",
    "            if |N| ≥ minPts then {                          /* Density check (if Q is a core point) */\n",
    "                S := S ∪ N                                  /* Add new neighbors to seed set */\n",
    "            }\n",
    "        }\n",
    "    }\n",
    "}\n",
    "```\n",
    "\n",
    "- Your function `dbscan`, should accept three inputs:\n",
    "    - `df_data` is a DataFrame containing all the points in our dataset (`DB` in the pseudocode).\n",
    "    - `eps` is a floating-point hyperparameter that indicates the radius from the point \"Q\" to search for neighbors.\n",
    "    - `min_pts` is an integer hyperparameter that is used to determine whether any point \"Q\" has a large enough number of neighbors.\n",
    "    - (As before, `dist_func` can be assumed to be Euclidean distance. You only need this for `range_query`, which you already implemented, so there's no need to re-use it here.)\n",
    "- `dbscan` should return a Series the same length as `df_data` that contains the cluster assignment for each point.\n",
    "    - If a datapoint is classified as \"noise\", then the cluster assignment should be \"0\".\n",
    "    - All the clusters DBSCAN discoevers should be numbered from $1$ to $k$ inclusive, where $k$ is found automatically by the algorithm and represents the total number of clusters created.\n",
    "\n",
    "*Hints*:\n",
    "- [iterrows](https://pandas.pydata.org/pandas-docs/stable/reference/api/pandas.DataFrame.iterrows.html) is a handy way to loop through a data frame.\n",
    "    - However, if you modify the DataFrame within the loop, `iterrows` **doesn't add more iterations to the loop**. \n",
    "    - For example, if you start with a dataframe of length $n$ and add $3$ rows, then the `iterrows` will stop after $n$ rows. \n",
    "- For the inner loop, you'll need to use a native Python list to dynamically grow the `SeedSet S`. \n",
    "    - You can use the `extend` function to merge 2 lists together. For example:\n",
    "\n",
    "```\n",
    "x = [1,2,3]\n",
    "y = [4,5,6]\n",
    "x.extend(y) # sets x to the list [1, 2, 3, 4, 5, 6]\n",
    "```\n",
    "- The [continue](https://docs.python.org/3/tutorial/controlflow.html) statement can be helpful. If the interpreter reaches a `continue` statement, that iteration of the loop ends early at that point, and we move on to the next element in the loop.\n",
    "\n",
    "*Testing your function*: Call `dbscan` with:\n",
    "- The `df_dbscan` data frame\n",
    "- `eps` set to 0.23\n",
    "- `min_pts` set to 6\n",
    "- Save the results to `s_cluster_assignments`.\n",
    "\n",
    "(**3 points**)"
   ]
  },
  {
   "cell_type": "markdown",
   "metadata": {},
   "source": [
    "<!-- BEGIN QUESTION -->\n",
    "\n"
   ]
  },
  {
   "cell_type": "code",
   "execution_count": 17,
   "metadata": {
    "tags": []
   },
   "outputs": [],
   "source": [
    "def dbscan(df_data: pd.DataFrame, eps: float, min_pts: int) -> pd.Series:\n",
    "    \"\"\"Perform DBSCAN clustering on the dataset df_data.\n",
    "    This function returns a Series of cluster assignments for each row\n",
    "    in df_data. If the cluster is 0, the data point is noise and not\n",
    "    assigned a cluster.\n",
    "    \"\"\"\n",
    "    s_cluster_assignment = pd.Series([-1] * len(df_data)) #-1 is undefined\n",
    "    c = 0\n",
    "    \n",
    "    for index, row in df_data.iterrows():\n",
    "        if s_cluster_assignment[index] != -1: #undefined\n",
    "            continue\n",
    "            \n",
    "        neighbors = range_query(df_data, index, eps)\n",
    "        if len(neighbors) < min_pts: #assigned as noise, noise is 0\n",
    "            s_cluster_assignment[index] = 0\n",
    "            continue\n",
    "        \n",
    "        c += 1\n",
    "        s_cluster_assignment[index] = c\n",
    "        neighbor_list = list(neighbors.index)\n",
    "        \n",
    "        for index2 in neighbor_list:\n",
    "            if s_cluster_assignment[index2] == 0: #is noise\n",
    "                s_cluster_assignment[index2] = c\n",
    "            if s_cluster_assignment[index2] == -1: #is undefined\n",
    "                s_cluster_assignment[index2] = c\n",
    "            else: #it is already defined to another cluster\n",
    "                continue\n",
    "            \n",
    "            new_neighbors = range_query(df_data, index2, eps)\n",
    "            if len(new_neighbors) >= min_pts:\n",
    "                add = list(new_neighbors.index)\n",
    "                neighbor_list.extend(add)\n",
    "                \n",
    "    return s_cluster_assignment"
   ]
  },
  {
   "cell_type": "code",
   "execution_count": 32,
   "metadata": {
    "tags": []
   },
   "outputs": [
    {
     "data": {
      "text/plain": [
       "1    49\n",
       "2    48\n",
       "0     3\n",
       "Name: count, dtype: int64"
      ]
     },
     "execution_count": 32,
     "metadata": {},
     "output_type": "execute_result"
    }
   ],
   "source": [
    "# Test it out\n",
    "s_cluster_assignment = dbscan(df_dbscan, 0.23, 6)\n",
    "s_cluster_assignment.value_counts()"
   ]
  },
  {
   "cell_type": "markdown",
   "metadata": {},
   "source": [
    "<!-- END QUESTION -->\n",
    "\n",
    "## Q2.4 \n",
    "\n",
    "**Plot the final clusters** \n",
    "\n",
    "Plot the points in the `df_dbscan` data frame using a 2-D scatter plot.\n",
    "- Assign a different color for each cluster.  \n",
    "- Use the cluster assignments from the previous problem (`s_cluster_assignments`).\n",
    "- Label your axes, and give the plot a title.\n",
    "\n",
    "(**1 point - manually graded**)"
   ]
  },
  {
   "cell_type": "markdown",
   "metadata": {},
   "source": [
    "<!-- BEGIN QUESTION -->\n",
    "\n"
   ]
  },
  {
   "cell_type": "code",
   "execution_count": 34,
   "metadata": {
    "tags": []
   },
   "outputs": [
    {
     "data": {
      "image/png": "[encoded data removed]",
      "text/plain": [
       "<Figure size 640x480 with 1 Axes>"
      ]
     },
     "metadata": {},
     "output_type": "display_data"
    }
   ],
   "source": [
    "#indices in df_dbscan for each cluster\n",
    "c0, c1, c2 = [], [], []\n",
    "for i in range(len(s_cluster_assignment)):\n",
    "    if s_cluster_assignment[i] == 1:\n",
    "        c1.append(i)\n",
    "    elif s_cluster_assignment[i] == 2:\n",
    "        c2.append(i)\n",
    "    else:\n",
    "        c0.append(i)\n",
    "\n",
    "c0x, c0y, c1x, c1y, c2x, c2y = [], [], [], [], [], []\n",
    "for index in c0:\n",
    "    c0x.append(df_dbscan['x'][index])\n",
    "    c0y.append(df_dbscan['y'][index])\n",
    "for index in c1:\n",
    "    c1x.append(df_dbscan['x'][index])\n",
    "    c1y.append(df_dbscan['y'][index])\n",
    "for index in c2:\n",
    "    c2x.append(df_dbscan['x'][index])\n",
    "    c2y.append(df_dbscan['y'][index])\n",
    "    \n",
    "plt.plot(c0x, c0y,'.', label = 'Noise')\n",
    "plt.plot(c1x, c1y,'.', label = 'cluster 1')\n",
    "plt.plot(c2x, c2y,'.', label = 'cluster 2')\n",
    "plt.legend()\n",
    "plt.xlabel('x')\n",
    "plt.ylabel('y')\n",
    "plt.title('DBSCAN')\n",
    "plt.show()"
   ]
  },
  {
   "cell_type": "markdown",
   "metadata": {},
   "source": [
    "<!-- END QUESTION -->\n",
    "\n",
    "## Q2.5 \n",
    "\n",
    "**Compare your results to the scikit-learn library**\n",
    "\n",
    "- Import [DBSCAN](https://scikit-learn.org/stable/modules/generated/sklearn.cluster.DBSCAN.html) from scikit-learn.\n",
    "- Use the same `eps` and `min_samples` parameters as Q2.3.\n",
    "- Compare the cluster labels from your implementation to those generated by scikit-learn's.\n",
    "\n",
    "Add some commentary about how you think the results compare. Use the same data and values for eps and minPts.\n",
    "\n",
    "(**2 points - 1 for code, 1 for commentary**)"
   ]
  },
  {
   "cell_type": "markdown",
   "metadata": {},
   "source": [
    "The scikit-learn DBSCAN had very similar results to the one coded above. However, the scikit-learn DBSCAN broke up the same clusters into two different clusters, while the one coded combined clusters that were close by. Additionally, the scikit-learn DBSCAN also labeled more points as outliers. These outliers that are not in the one above are between two different scikit-learn clusters, while the one above has these clusters combined, so the outliers are also part of that cluster. \n",
    "\n",
    "With the DBSCAN above, not every point had to be a center point of a dense area because of the second loop that labeled points in a cluster if it was close to a point already in the cluster. However, the scikit-learn model also seemed to factor in the density around each individual point, which is why there are more outliers and more clusters. There might be some combination of eps and min_samples for the coded DBSCAN to break up the clusters more like scikit-learn did. We did change the eps, but a small change resulted in a big difference in how the clusters are formed. "
   ]
  },
  {
   "cell_type": "code",
   "execution_count": 20,
   "metadata": {
    "tags": []
   },
   "outputs": [],
   "source": [
    "from sklearn.cluster import DBSCAN\n",
    "\n",
    "# Define your clustering model and fit it to df_dbscan.\n",
    "clustering = DBSCAN(eps = 0.23, min_samples = 6).fit(df_dbscan)"
   ]
  },
  {
   "cell_type": "code",
   "execution_count": 25,
   "metadata": {
    "tags": []
   },
   "outputs": [
    {
     "data": {
      "image/png": "[encoded data removed]",
      "text/plain": [
       "<Figure size 640x480 with 1 Axes>"
      ]
     },
     "metadata": {},
     "output_type": "display_data"
    }
   ],
   "source": [
    "# Analyze and compare their clusters to yours.\n",
    "\n",
    "#visualization code from https://www.reneshbedre.com/blog/dbscan-python.html\n",
    "import seaborn as sns\n",
    "p = sns.scatterplot(data = df_dbscan, x = \"x\", y = \"y\", hue = clustering.labels_, legend = \"full\", palette = \"deep\")\n",
    "sns.move_legend(p, \"upper right\", bbox_to_anchor = (1.17, 1.), title = 'Clusters')\n",
    "plt.title('Scikit-learn DBSCAN')\n",
    "plt.show()"
   ]
  },
  {
   "cell_type": "markdown",
   "metadata": {},
   "source": [
    "<!-- END QUESTION -->\n",
    "\n"
   ]
  }
 ],
 "metadata": {
  "kernelspec": {
   "display_name": "Python 3 (ipykernel)",
   "language": "python",
   "name": "python3"
  },
  "language_info": {
   "codemirror_mode": {
    "name": "ipython",
    "version": 3
   },
   "file_extension": ".py",
   "mimetype": "text/x-python",
   "name": "python",
   "nbconvert_exporter": "python",
   "pygments_lexer": "ipython3",
   "version": "3.10.9"
  },
  "otter": {
   "OK_FORMAT": true,
   "assignment_name": "329e_HW10",
   "tests": {
    "q1.1": {
     "name": "q1.1",
     "points": 1,
     "suites": [
      {
       "cases": [],
       "scored": true,
       "setup": "",
       "teardown": "",
       "type": "doctest"
      }
     ]
    },
    "q1.2": {
     "name": "q1.2",
     "points": 2,
     "suites": [
      {
       "cases": [],
       "scored": true,
       "setup": "",
       "teardown": "",
       "type": "doctest"
      }
     ]
    },
    "q1.3": {
     "name": "q1.3",
     "points": 2,
     "suites": [
      {
       "cases": [],
       "scored": true,
       "setup": "",
       "teardown": "",
       "type": "doctest"
      }
     ]
    },
    "q1.4": {
     "name": "q1.4",
     "points": 1,
     "suites": [
      {
       "cases": [],
       "scored": true,
       "setup": "",
       "teardown": "",
       "type": "doctest"
      }
     ]
    },
    "q1.5": {
     "name": "q1.5",
     "points": 2,
     "suites": [
      {
       "cases": [],
       "scored": true,
       "setup": "",
       "teardown": "",
       "type": "doctest"
      }
     ]
    },
    "q2.2": {
     "name": "q2.2",
     "points": 2,
     "suites": [
      {
       "cases": [],
       "scored": true,
       "setup": "",
       "teardown": "",
       "type": "doctest"
      }
     ]
    },
    "q2.3": {
     "name": "q2.3",
     "points": 3,
     "suites": [
      {
       "cases": [],
       "scored": true,
       "setup": "",
       "teardown": "",
       "type": "doctest"
      }
     ]
    },
    "q2.5computations": {
     "name": "q2.5computations",
     "points": 1,
     "suites": [
      {
       "cases": [],
       "scored": true,
       "setup": "",
       "teardown": "",
       "type": "doctest"
      }
     ]
    }
   }
  }
 },
 "nbformat": 4,
 "nbformat_minor": 4
}
