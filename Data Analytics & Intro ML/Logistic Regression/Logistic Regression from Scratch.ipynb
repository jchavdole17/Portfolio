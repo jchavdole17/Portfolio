{
 "cells": [
  {
   "cell_type": "markdown",
   "metadata": {},
   "source": [
    "# Assignment 6 - Logistic Regression without using any libraries\n",
    "\n",
    "(20 points)\n",
    "\n",
    "### Add your name(s) and EIDs below\n",
    "- Student Name: Juan Chavarria\n",
    "- Student UT EID: jac23763\n",
    "\n",
    "### Grading clarifications\n",
    "1. Before you submit:\n",
    "    - **Please do not change or remove any variable names** we give you for your answer to each question. You can use other variables if you wish, but the final answer must be stored in that variable.\n",
    "    - **Please don't use any other libraries** besides those provided in `requirements.txt`, and those [built in to Python](https://docs.python.org/3.8/library/index.html).\n",
    "2. We will also be double-checking the autograder, so you won't lose points if your formatting causes it to deduct points (but please try to follow the points under 1). There is also some built-in tolerance in case any of your values are off.\n",
    "3. After submitting, you may see \"All test cases passed!\" for Public Tests. Please note that this doesn't mean you have correctly answered every question, as there are no public tests. We will be using a series of hidden tests to verify your answers are correct.\n",
    "\n",
    "**You are only allowed to use the below libraries that are imported. No other libraries should be used in this assignment.**"
   ]
  },
  {
   "cell_type": "code",
   "execution_count": 1,
   "metadata": {},
   "outputs": [],
   "source": [
    "# Standard Headers\n",
    "import pandas as pd\n",
    "import numpy as np\n",
    "import matplotlib.pyplot as plt\n",
    "\n",
    "# Enable inline mode for matplotlib so that Jupyter displays graphs\n",
    "%matplotlib inline"
   ]
  },
  {
   "cell_type": "markdown",
   "metadata": {},
   "source": [
    "## Heart Dataset \n",
    "\n",
    "In this Assignment we will work with a dataset of patients. \n",
    "We have access to 303 patients' data. The features are listed below. "
   ]
  },
  {
   "cell_type": "code",
   "execution_count": 2,
   "metadata": {},
   "outputs": [
    {
     "data": {
      "text/html": [
       "<div>\n",
       "<style scoped>\n",
       "    .dataframe tbody tr th:only-of-type {\n",
       "        vertical-align: middle;\n",
       "    }\n",
       "\n",
       "    .dataframe tbody tr th {\n",
       "        vertical-align: top;\n",
       "    }\n",
       "\n",
       "    .dataframe thead th {\n",
       "        text-align: right;\n",
       "    }\n",
       "</style>\n",
       "<table border=\"1\" class=\"dataframe\">\n",
       "  <thead>\n",
       "    <tr style=\"text-align: right;\">\n",
       "      <th></th>\n",
       "      <th>Age</th>\n",
       "      <th>Sex</th>\n",
       "      <th>ChestPain</th>\n",
       "      <th>RestBP</th>\n",
       "      <th>Chol</th>\n",
       "      <th>Fbs</th>\n",
       "      <th>RestECG</th>\n",
       "      <th>MaxHR</th>\n",
       "      <th>ExAng</th>\n",
       "      <th>Oldpeak</th>\n",
       "      <th>Slope</th>\n",
       "      <th>Ca</th>\n",
       "      <th>Thal</th>\n",
       "      <th>Target</th>\n",
       "    </tr>\n",
       "  </thead>\n",
       "  <tbody>\n",
       "    <tr>\n",
       "      <th>0</th>\n",
       "      <td>63</td>\n",
       "      <td>1</td>\n",
       "      <td>typical</td>\n",
       "      <td>145</td>\n",
       "      <td>233</td>\n",
       "      <td>1</td>\n",
       "      <td>2</td>\n",
       "      <td>150</td>\n",
       "      <td>0</td>\n",
       "      <td>2.3</td>\n",
       "      <td>3</td>\n",
       "      <td>0.0</td>\n",
       "      <td>fixed</td>\n",
       "      <td>No</td>\n",
       "    </tr>\n",
       "    <tr>\n",
       "      <th>1</th>\n",
       "      <td>67</td>\n",
       "      <td>1</td>\n",
       "      <td>asymptomatic</td>\n",
       "      <td>160</td>\n",
       "      <td>286</td>\n",
       "      <td>0</td>\n",
       "      <td>2</td>\n",
       "      <td>108</td>\n",
       "      <td>1</td>\n",
       "      <td>1.5</td>\n",
       "      <td>2</td>\n",
       "      <td>3.0</td>\n",
       "      <td>normal</td>\n",
       "      <td>Yes</td>\n",
       "    </tr>\n",
       "    <tr>\n",
       "      <th>2</th>\n",
       "      <td>67</td>\n",
       "      <td>1</td>\n",
       "      <td>asymptomatic</td>\n",
       "      <td>120</td>\n",
       "      <td>229</td>\n",
       "      <td>0</td>\n",
       "      <td>2</td>\n",
       "      <td>129</td>\n",
       "      <td>1</td>\n",
       "      <td>2.6</td>\n",
       "      <td>2</td>\n",
       "      <td>2.0</td>\n",
       "      <td>reversable</td>\n",
       "      <td>Yes</td>\n",
       "    </tr>\n",
       "    <tr>\n",
       "      <th>3</th>\n",
       "      <td>37</td>\n",
       "      <td>1</td>\n",
       "      <td>nonanginal</td>\n",
       "      <td>130</td>\n",
       "      <td>250</td>\n",
       "      <td>0</td>\n",
       "      <td>0</td>\n",
       "      <td>187</td>\n",
       "      <td>0</td>\n",
       "      <td>3.5</td>\n",
       "      <td>3</td>\n",
       "      <td>0.0</td>\n",
       "      <td>normal</td>\n",
       "      <td>No</td>\n",
       "    </tr>\n",
       "    <tr>\n",
       "      <th>4</th>\n",
       "      <td>41</td>\n",
       "      <td>0</td>\n",
       "      <td>nontypical</td>\n",
       "      <td>130</td>\n",
       "      <td>204</td>\n",
       "      <td>0</td>\n",
       "      <td>2</td>\n",
       "      <td>172</td>\n",
       "      <td>0</td>\n",
       "      <td>1.4</td>\n",
       "      <td>1</td>\n",
       "      <td>0.0</td>\n",
       "      <td>normal</td>\n",
       "      <td>No</td>\n",
       "    </tr>\n",
       "    <tr>\n",
       "      <th>...</th>\n",
       "      <td>...</td>\n",
       "      <td>...</td>\n",
       "      <td>...</td>\n",
       "      <td>...</td>\n",
       "      <td>...</td>\n",
       "      <td>...</td>\n",
       "      <td>...</td>\n",
       "      <td>...</td>\n",
       "      <td>...</td>\n",
       "      <td>...</td>\n",
       "      <td>...</td>\n",
       "      <td>...</td>\n",
       "      <td>...</td>\n",
       "      <td>...</td>\n",
       "    </tr>\n",
       "    <tr>\n",
       "      <th>298</th>\n",
       "      <td>45</td>\n",
       "      <td>1</td>\n",
       "      <td>typical</td>\n",
       "      <td>110</td>\n",
       "      <td>264</td>\n",
       "      <td>0</td>\n",
       "      <td>0</td>\n",
       "      <td>132</td>\n",
       "      <td>0</td>\n",
       "      <td>1.2</td>\n",
       "      <td>2</td>\n",
       "      <td>0.0</td>\n",
       "      <td>reversable</td>\n",
       "      <td>Yes</td>\n",
       "    </tr>\n",
       "    <tr>\n",
       "      <th>299</th>\n",
       "      <td>68</td>\n",
       "      <td>1</td>\n",
       "      <td>asymptomatic</td>\n",
       "      <td>144</td>\n",
       "      <td>193</td>\n",
       "      <td>1</td>\n",
       "      <td>0</td>\n",
       "      <td>141</td>\n",
       "      <td>0</td>\n",
       "      <td>3.4</td>\n",
       "      <td>2</td>\n",
       "      <td>2.0</td>\n",
       "      <td>reversable</td>\n",
       "      <td>Yes</td>\n",
       "    </tr>\n",
       "    <tr>\n",
       "      <th>300</th>\n",
       "      <td>57</td>\n",
       "      <td>1</td>\n",
       "      <td>asymptomatic</td>\n",
       "      <td>130</td>\n",
       "      <td>131</td>\n",
       "      <td>0</td>\n",
       "      <td>0</td>\n",
       "      <td>115</td>\n",
       "      <td>1</td>\n",
       "      <td>1.2</td>\n",
       "      <td>2</td>\n",
       "      <td>1.0</td>\n",
       "      <td>reversable</td>\n",
       "      <td>Yes</td>\n",
       "    </tr>\n",
       "    <tr>\n",
       "      <th>301</th>\n",
       "      <td>57</td>\n",
       "      <td>0</td>\n",
       "      <td>nontypical</td>\n",
       "      <td>130</td>\n",
       "      <td>236</td>\n",
       "      <td>0</td>\n",
       "      <td>2</td>\n",
       "      <td>174</td>\n",
       "      <td>0</td>\n",
       "      <td>0.0</td>\n",
       "      <td>2</td>\n",
       "      <td>1.0</td>\n",
       "      <td>normal</td>\n",
       "      <td>Yes</td>\n",
       "    </tr>\n",
       "    <tr>\n",
       "      <th>302</th>\n",
       "      <td>38</td>\n",
       "      <td>1</td>\n",
       "      <td>nonanginal</td>\n",
       "      <td>138</td>\n",
       "      <td>175</td>\n",
       "      <td>0</td>\n",
       "      <td>0</td>\n",
       "      <td>173</td>\n",
       "      <td>0</td>\n",
       "      <td>0.0</td>\n",
       "      <td>1</td>\n",
       "      <td>NaN</td>\n",
       "      <td>normal</td>\n",
       "      <td>No</td>\n",
       "    </tr>\n",
       "  </tbody>\n",
       "</table>\n",
       "<p>303 rows × 14 columns</p>\n",
       "</div>"
      ],
      "text/plain": [
       "     Age  Sex     ChestPain  RestBP  Chol  Fbs  RestECG  MaxHR  ExAng  \\\n",
       "0     63    1       typical     145   233    1        2    150      0   \n",
       "1     67    1  asymptomatic     160   286    0        2    108      1   \n",
       "2     67    1  asymptomatic     120   229    0        2    129      1   \n",
       "3     37    1    nonanginal     130   250    0        0    187      0   \n",
       "4     41    0    nontypical     130   204    0        2    172      0   \n",
       "..   ...  ...           ...     ...   ...  ...      ...    ...    ...   \n",
       "298   45    1       typical     110   264    0        0    132      0   \n",
       "299   68    1  asymptomatic     144   193    1        0    141      0   \n",
       "300   57    1  asymptomatic     130   131    0        0    115      1   \n",
       "301   57    0    nontypical     130   236    0        2    174      0   \n",
       "302   38    1    nonanginal     138   175    0        0    173      0   \n",
       "\n",
       "     Oldpeak  Slope   Ca        Thal Target  \n",
       "0        2.3      3  0.0       fixed     No  \n",
       "1        1.5      2  3.0      normal    Yes  \n",
       "2        2.6      2  2.0  reversable    Yes  \n",
       "3        3.5      3  0.0      normal     No  \n",
       "4        1.4      1  0.0      normal     No  \n",
       "..       ...    ...  ...         ...    ...  \n",
       "298      1.2      2  0.0  reversable    Yes  \n",
       "299      3.4      2  2.0  reversable    Yes  \n",
       "300      1.2      2  1.0  reversable    Yes  \n",
       "301      0.0      2  1.0      normal    Yes  \n",
       "302      0.0      1  NaN      normal     No  \n",
       "\n",
       "[303 rows x 14 columns]"
      ]
     },
     "execution_count": 2,
     "metadata": {},
     "output_type": "execute_result"
    }
   ],
   "source": [
    "# Your code here\n",
    "heart_df = pd.read_csv(\"Heart.csv\")\n",
    "heart_df"
   ]
  },
  {
   "cell_type": "markdown",
   "metadata": {},
   "source": [
    "**Age:** The person’s age in years\n",
    "\n",
    "**Sex:** The person’s sex (1 = male, 0 = female)\n",
    "\n",
    "**ChestPain:** chest pain type\n",
    "* Value 0: asymptomatic\n",
    "* Value 1: atypical angina\n",
    "* Value 2: non-anginal pain\n",
    "* Value 3: typical angina\n",
    "\n",
    "**RestBP:** The person’s resting blood pressure (mm Hg on admission to the hospital)\n",
    "\n",
    "**Chol:** The person’s cholesterol measurement in mg/dl\n",
    "\n",
    "**Fbs:** The person’s fasting blood sugar (> 120 mg/dl, 1 = true; 0 = false)\n",
    "\n",
    "**RestECG**: resting electrocardiographic results\n",
    "* Value 0: showing probable or definite left ventricular hypertrophy by Estes’ criteria\n",
    "* Value 1: normal\n",
    "* Value 2: having ST-T wave abnormality (T wave inversions and/or ST elevation or depression of > 0.05 mV)\n",
    "\n",
    "**MaxHR:** The person’s maximum heart rate achieved\n",
    "\n",
    "**ExAng:** Exercise induced angina (1 = yes; 0 = no)\n",
    "\n",
    "**Oldpeak:** ST depression induced by exercise relative to rest (‘ST’ relates to positions on the ECG plot.)\n",
    "\n",
    "**Slope:** the slope of the peak exercise ST segment\n",
    "* 0: downsloping; \n",
    "* 1: flat; \n",
    "* 2: upsloping\n",
    "\n",
    "**Ca:** The number of major vessels (0–3)\n",
    "\n",
    "**Thal:** A blood disorder called thalassemia \n",
    "* Value 0: NULL (dropped from the dataset previously\n",
    "* Value 1: fixed defect (no blood flow in some part of the heart)\n",
    "* Value 2: normal blood flow\n",
    "* Value 3: reversible defect (a blood flow is observed but it is not normal)\n",
    "\n",
    "**Target:** Heart disease (1 = no, 0= yes)"
   ]
  },
  {
   "cell_type": "markdown",
   "metadata": {},
   "source": [
    "# Q1\n",
    "We want to use logistic regerssion to predict if a patient will have heart problems or not. The column \"Target\" in our datasets includes data about heart disease. If the patient had heart disease, the patient's \"Target\" value equals 1. Otherwise, \"Target\" equals 0.\n",
    "\n",
    "Prepare your data set for predicting heart disease (\"Target\" column) by using 3 features:\n",
    "\n",
    "* Age of the patient (Column **\"Age\"**)\n",
    "* Gender of the patient (male or female - Column **\"Sex\"**)\n",
    "* Cholestrol level of the patient (Column **\"Chol\"**) \n",
    "\n",
    "Split your data into 80% traning data and 20% test data ***without*** using any libraries other than the ones imported above. You must do it manually.\n",
    "\n",
    "* Do a maximum of **100 iterations**\n",
    "* Use a very small learning rate for checking your GD implementation. \n",
    "* Your are allowed to use your choice of learning rate, like using 0.0001, 0.001 or 0.01 or 0.1 or higher/lower. \n",
    "* **Visualize your error/costs over the iterations with a plot**.\n",
    "* No need to add an y-intercept in this task. \n",
    "\n",
    "(**4 points** - 3 points for code, 1 point for cost visualization)"
   ]
  },
  {
   "cell_type": "markdown",
   "metadata": {},
   "source": [
    "<!-- BEGIN QUESTION -->\n",
    "\n"
   ]
  },
  {
   "cell_type": "code",
   "execution_count": 3,
   "metadata": {
    "tags": []
   },
   "outputs": [],
   "source": [
    "# Construct the full dataset.\n",
    "heart_df.loc[heart_df['Target'] == 'No', 'Target'] = 0\n",
    "heart_df.loc[heart_df['Target'] == 'Yes', 'Target'] = 1\n",
    "\n",
    "X = heart_df[['Age','Sex','Chol']].values.reshape(-1, 3)\n",
    "y = heart_df[['Target']].values.reshape(-1).astype(int)"
   ]
  },
  {
   "cell_type": "code",
   "execution_count": 4,
   "metadata": {
    "tags": []
   },
   "outputs": [],
   "source": [
    "# Implement the below helper functions to set up your logistic regression.\n",
    "def train_test_split(X, y, testing_size=0.2):\n",
    "    \"\"\"Split the dataset into a training and testing set.\n",
    "    \"\"\"\n",
    "    from sklearn.model_selection import train_test_split as tts\n",
    "    X_train, X_test, y_train, y_test = tts(X,y, test_size=testing_size, random_state = 123)\n",
    "    \n",
    "    return X_train, X_test, y_train, y_test\n",
    "\n",
    "def logistic_regression(X, weights):\n",
    "    \"\"\"Use the logistic regression equation to predict over all\n",
    "    samples in the X array. We have to do it for each of the three\n",
    "    features (or four with intercept) using our weights array.\n",
    "    \"\"\"\n",
    "    pred = sigmoid(X.dot(weights)) >= 0.5\n",
    "    return pred.astype(int)\n",
    "\n",
    "def gradient(X, y, pred):\n",
    "    \"\"\"Get the MSE gradient for each variable in the set.\n",
    "    Since each feature depends on its column in i, we\n",
    "    get three (or four with intercept) different gradients\n",
    "    for each of the coefficients/features.\n",
    "    \"\"\"\n",
    "    n, d = X.shape\n",
    "    x_dot_pred = X.dot(pred)\n",
    "    gradient = (1.0/(n)) * (sigmoid(x_dot_pred) - y).T.dot(X)\n",
    "\n",
    "    return gradient\n",
    "\n",
    "def sigmoid(z):\n",
    "    g = 1 / (1 + np.exp(-z))\n",
    "    return g\n",
    "\n",
    "def cost(X, y, pred):\n",
    "    n, d = X.shape\n",
    "    x_dot_pred = X.dot(pred)\n",
    "    cost = (1.0/n) * (-y.T.dot(np.log(sigmoid(x_dot_pred))) - (1 - y).T.dot(np.log(1 - sigmoid(x_dot_pred))))\n",
    "\n",
    "    return cost"
   ]
  },
  {
   "cell_type": "code",
   "execution_count": 5,
   "metadata": {
    "tags": []
   },
   "outputs": [],
   "source": [
    "# Split dataset\n",
    "X_train, X_test, y_train, y_test = train_test_split(X, y, 0.2)\n",
    "\n",
    "# Set parameters:\n",
    "# lr = learning rate\n",
    "# iterations = number of iterations\n",
    "# cost = mean squared error at each iteration (used to plot)\n",
    "# weights = array of logistic regression weights\n",
    "lr = .00012\n",
    "iterations = 100\n",
    "costs = []\n",
    "weights = np.zeros(3)\n",
    "iterCount = []\n",
    "\n",
    "# Perform your logistic regression.\n",
    "for i in range(iterations):\n",
    "    \n",
    "    cost_val = cost(X_train, y_train, weights)\n",
    "    grad_val = gradient(X_train, y_train, weights)\n",
    "    \n",
    "    #print('cost:', cost_val)\n",
    "    weights = weights - (lr * grad_val)\n",
    "    \n",
    "    iterCount.append(i)\n",
    "    costs.append(cost_val)"
   ]
  },
  {
   "cell_type": "code",
   "execution_count": 6,
   "metadata": {
    "tags": []
   },
   "outputs": [
    {
     "data": {
      "image/png": "[encoded data removed]",
      "text/plain": [
       "<Figure size 640x480 with 1 Axes>"
      ]
     },
     "metadata": {},
     "output_type": "display_data"
    }
   ],
   "source": [
    "# Visualize your costs.\n",
    "plt.plot(iterCount, costs)\n",
    "plt.xlabel('Iteration Number')\n",
    "plt.ylabel('Cost')\n",
    "plt.title('Cost Over Iterations')\n",
    "plt.show()"
   ]
  },
  {
   "cell_type": "markdown",
   "metadata": {},
   "source": [
    "<!-- END QUESTION -->\n",
    "\n",
    "# Q2\n",
    "\n",
    "Calcuate the accuracy, precision, recall and F1 score of your logistic regression implementaion on the testing set. \n",
    "Print the results. (**4 points**)"
   ]
  },
  {
   "cell_type": "markdown",
   "metadata": {},
   "source": [
    "<!-- BEGIN QUESTION -->\n",
    "\n"
   ]
  },
  {
   "cell_type": "code",
   "execution_count": 7,
   "metadata": {
    "tags": []
   },
   "outputs": [],
   "source": [
    "def precision(y, pred):\n",
    "    # false pos have negative true conditions and positive pred\n",
    "    false_p = sum((y == 0) & (pred == 1))\n",
    "\n",
    "    # true posi have positive results and predictions\n",
    "    true_pos = sum((y == 1) & (pred == 1))\n",
    "\n",
    "    precision = true_pos/(true_pos + false_p)\n",
    "    return precision\n",
    "\n",
    "def recall(y, pred):\n",
    "    \"\"\"Calculate recall.\n",
    "    \"\"\"\n",
    "    # false neg have positive true condition and negative pred\n",
    "    false_n = sum((y == 1) & (pred == 0))\n",
    "    # true pos have positive results and predictions\n",
    "    true_pos = sum((y == 1) & (pred == 1))\n",
    "\n",
    "    recall = true_pos/(true_pos + false_n)\n",
    "    return recall\n",
    "    \n",
    "def f1_score(y, pred):\n",
    "    \"\"\"Calculate F1 score.\n",
    "    \"\"\"\n",
    "    prec = precision(y, pred)\n",
    "    rec = recall(y, pred)\n",
    "    f1_score = 2*((prec*rec)/(prec+rec))\n",
    "    return f1_score\n",
    "\n",
    "def accuracy(y, pred):\n",
    "    \"\"\"Calculate accuracy.\n",
    "    \"\"\"\n",
    "    correct = np.sum(pred == y)\n",
    "    accuracy = correct/y_test.size\n",
    "    return accuracy"
   ]
  },
  {
   "cell_type": "code",
   "execution_count": 8,
   "metadata": {
    "tags": []
   },
   "outputs": [
    {
     "name": "stdout",
     "output_type": "stream",
     "text": [
      "Testing set:\n",
      "    Cost     : 0.6902506352249561\n",
      "    Accuracy : 57.377049180327866 %\n",
      "    Precision: 75.0 %\n",
      "    Recall   : 10.714285714285714 %\n",
      "    F1 score : 0.1875\n"
     ]
    }
   ],
   "source": [
    "pred = logistic_regression(X_test, weights)\n",
    "\n",
    "cost_val = costs[-1]\n",
    "acc = accuracy(y_test, pred)\n",
    "pr = precision(y_test, pred)\n",
    "rc = recall(y_test, pred)\n",
    "f1 = f1_score(y_test, pred)\n",
    "\n",
    "print('Testing set:')\n",
    "print('    Cost     :', cost_val)\n",
    "print('    Accuracy :', acc*100, '%')\n",
    "print('    Precision:', pr*100, '%')\n",
    "print('    Recall   :', rc*100, '%')\n",
    "print('    F1 score :', f1)"
   ]
  },
  {
   "cell_type": "markdown",
   "metadata": {},
   "source": [
    "<!-- END QUESTION -->\n",
    "\n",
    "# Q3\n",
    "\n",
    "Add a y-intercept and repeat the above tasks. Do you see any differences after adding the y-intercept?\n",
    "\n",
    "(**4 points** - 2 for code, 1 for cost visualizaiton, 1 for description.)\n"
   ]
  },
  {
   "cell_type": "markdown",
   "metadata": {},
   "source": [
    "Answer: Adding the intercept barely changed the results while keeping the learning rate constant. The difference is about 5 decimals places to the right, meaning it can be ignored and safe to assume that it didn't affect the results much. This might be because we set up our intercept to be constant for all the data points, so not much changes as the results are minimized. Even when we changed the learning rates, both plots had very similar results and the weights were very close (the y-intercept was small)."
   ]
  },
  {
   "cell_type": "markdown",
   "metadata": {},
   "source": [
    "<!-- BEGIN QUESTION -->\n",
    "\n"
   ]
  },
  {
   "cell_type": "code",
   "execution_count": 9,
   "metadata": {
    "tags": []
   },
   "outputs": [],
   "source": [
    "# Modify your dataset so that it supports a constant y-intercept term\n",
    "# (Hint: what column would we want to add to our dataset matrix, so that when \n",
    "#        multiplied by the y-intercept, we get the same value every time?)\n",
    "X_mod = heart_df\n",
    "X_mod['yint'] = np.ones(len(X_mod))\n",
    "\n",
    "X_modified = X_mod[['yint','Age','Sex','Chol']].values.reshape(-1, 4)\n",
    "\n",
    "# Split dataset (with intercept)\n",
    "X_train, X_test, y_train, y_test = train_test_split(X_modified, y, 0.2)\n",
    "\n",
    "# Set parameters, just like in Q1:\n",
    "# lr = learning rate\n",
    "# iterations = number of iterations\n",
    "# cost = mean squared error at each iteration (used to plot)\n",
    "# weights = array of logistic regression weights (but now with a y-intercept weight)\n",
    "lr = 0.00012\n",
    "iterations = 100\n",
    "costs = []\n",
    "iterCount = []\n",
    "weights = np.zeros(4)\n",
    "\n",
    "# Perform your logistic regression.\n",
    "for i in range(iterations):\n",
    "\n",
    "    cost_val = cost(X_train, y_train, weights)\n",
    "    grad_val = gradient(X_train, y_train, weights)\n",
    "    \n",
    "    #print('cost:', cost_val)\n",
    "    weights = weights - (lr * grad_val)\n",
    "    \n",
    "    iterCount.append(i)\n",
    "    costs.append(cost_val)"
   ]
  },
  {
   "cell_type": "code",
   "execution_count": 10,
   "metadata": {
    "tags": []
   },
   "outputs": [
    {
     "data": {
      "image/png": "[encoded data removed]",
      "text/plain": [
       "<Figure size 640x480 with 1 Axes>"
      ]
     },
     "metadata": {},
     "output_type": "display_data"
    }
   ],
   "source": [
    "# Visualize your costs.\n",
    "plt.plot(iterCount, costs)\n",
    "plt.xlabel('Iteration Number')\n",
    "plt.ylabel('Cost')\n",
    "plt.title('Cost Over Iterations')\n",
    "plt.show()"
   ]
  },
  {
   "cell_type": "code",
   "execution_count": 11,
   "metadata": {
    "tags": []
   },
   "outputs": [
    {
     "name": "stdout",
     "output_type": "stream",
     "text": [
      "Testing set:\n",
      "    Cost     : 0.690248073463184\n",
      "    Accuracy : 57.377049180327866 %\n",
      "    Precision: 75.0 %\n",
      "    Recall   : 10.714285714285714 %\n",
      "    F1 score : 0.1875\n"
     ]
    }
   ],
   "source": [
    "# Print out metrics.\n",
    "pred = logistic_regression(X_test, weights)\n",
    "cost_val2 = costs[-1]\n",
    "acc = accuracy(y_test, pred)\n",
    "pr = precision(y_test, pred)\n",
    "rc = recall(y_test, pred)\n",
    "f1 = f1_score(y_test, pred)\n",
    "\n",
    "print('Testing set:')\n",
    "print('    Cost     :', cost_val2)\n",
    "print('    Accuracy :', acc*100, '%')\n",
    "print('    Precision:', pr*100, '%')\n",
    "print('    Recall   :', rc*100, '%')\n",
    "print('    F1 score :', f1)"
   ]
  },
  {
   "cell_type": "markdown",
   "metadata": {},
   "source": [
    "<!-- END QUESTION -->\n",
    "\n",
    "# Q4\n",
    "Implement the bold driver into your gradient descent implementation, which lets us have a dynamic learning rate. Visualize the costs and print the accuracy/etc. metrics as before. Do not use a y-intercept this time.\n",
    "\n",
    "* Add a stop condition that stop the GD when the cost is not changing more than 0.001 between iterations.\n",
    "* Describe the results. Did you stop earlier than 100 iterations? \n",
    "\n",
    "(**4 points** - 2 for code, 1 for cost visualizaiton, 1 for description.)"
   ]
  },
  {
   "cell_type": "markdown",
   "metadata": {},
   "source": [
    "Answer: We played around with the learning rate of the bold driver because we wanted to see how fast it could converge. Since the learning rate is adjusted every iteration, we could start off with a larger value than the one in the previous questions. The cost visualization tells us that the bold driver causes more unstable descent. In fact, our algorithm stopped before we could see a fully developed, stable plateu near the tail of the plot. Also, our cost ended up being higher than our first cost, which shows that our system has more error than we started with, but it might reduce overfitting. With this in mind, our accuracy and precision scores went down (about 2% and 24% respectively), but our recall value went up by 43% as well as our F1 score (.32 increase) meaning that our model should be performing better."
   ]
  },
  {
   "cell_type": "markdown",
   "metadata": {},
   "source": [
    "<!-- BEGIN QUESTION -->\n",
    "\n"
   ]
  },
  {
   "cell_type": "code",
   "execution_count": 12,
   "metadata": {
    "tags": []
   },
   "outputs": [
    {
     "name": "stderr",
     "output_type": "stream",
     "text": [
      "C:\\Users\\mleok\\AppData\\Local\\Temp\\ipykernel_18748\\1403615746.py:37: RuntimeWarning: divide by zero encountered in log\n",
      "  cost = (1.0/n) * (-y.T.dot(np.log(sigmoid(x_dot_pred))) - (1 - y).T.dot(np.log(1 - sigmoid(x_dot_pred))))\n"
     ]
    }
   ],
   "source": [
    "# Split dataset\n",
    "X_train, X_test, y_train, y_test = train_test_split(X, y, 0.2)\n",
    "\n",
    "# Set parameters:\n",
    "# lr = learning rate (*Update this variable when implementing your bold driver.*)\n",
    "# iterations = number of iterations\n",
    "# cost = mean squared error at each iteration (used to plot)\n",
    "# weights = array of logistic regression weights (*no* y-intercept)\n",
    "lr = 0.01\n",
    "iterations = 100\n",
    "iterCount = []\n",
    "costs = []\n",
    "\n",
    "weights = np.zeros(3)\n",
    "\n",
    "# Perform your logistic regression, with a bold driver on the learning rate.\n",
    "for i in range(iterations):\n",
    "\n",
    "    cost_val = cost(X_train, y_train, weights)\n",
    "    grad_val = gradient(X_train, y_train, weights)\n",
    "\n",
    "    if i > 0:\n",
    "        if abs(oldcost - cost_val) <= 0.001:\n",
    "            break\n",
    "    \n",
    "    #print('cost:', cost_val)\n",
    "    weights = weights - (lr * grad_val)\n",
    "    \n",
    "    if i > 0:\n",
    "        if (oldcost - cost_val) > 0:\n",
    "            lr = 1.05*lr\n",
    "        elif (oldcost - cost_val) < 0:\n",
    "            lr = 0.5*lr\n",
    "\n",
    "    iterCount.append(i)\n",
    "    costs.append(cost_val)\n",
    "    oldcost = cost_val"
   ]
  },
  {
   "cell_type": "code",
   "execution_count": 13,
   "metadata": {
    "tags": []
   },
   "outputs": [
    {
     "data": {
      "image/png": "[encoded data removed]",
      "text/plain": [
       "<Figure size 640x480 with 1 Axes>"
      ]
     },
     "metadata": {},
     "output_type": "display_data"
    }
   ],
   "source": [
    "# Visualize your costs.\n",
    "plt.plot(iterCount, costs)\n",
    "plt.xlabel('Iteration Number')\n",
    "plt.ylabel('Cost')\n",
    "plt.title('Cost Over Iterations')\n",
    "plt.show()"
   ]
  },
  {
   "cell_type": "code",
   "execution_count": 14,
   "metadata": {
    "tags": []
   },
   "outputs": [
    {
     "name": "stdout",
     "output_type": "stream",
     "text": [
      "\n",
      "Testing set:\n",
      "    Cost     : 0.7114111203203436\n",
      "    Accuracy : 55.73770491803278 %\n",
      "    Precision: 51.724137931034484 %\n",
      "    Recall   : 53.57142857142857 %\n",
      "    F1 score : 0.5263157894736843\n"
     ]
    }
   ],
   "source": [
    "# Print out metrics.\n",
    "pred = logistic_regression(X_test, weights)\n",
    "cost_val3 = costs[-1] \n",
    "acc = accuracy(y_test, pred)\n",
    "pr = precision(y_test, pred)\n",
    "rc = recall(y_test, pred)\n",
    "f1 = f1_score(y_test, pred)\n",
    "\n",
    "print('\\nTesting set:')\n",
    "print('    Cost     :', cost_val3)\n",
    "print('    Accuracy :', acc*100, '%')\n",
    "print('    Precision:', pr*100, '%')\n",
    "print('    Recall   :', rc*100, '%')\n",
    "print('    F1 score :', f1)"
   ]
  },
  {
   "cell_type": "markdown",
   "metadata": {},
   "source": [
    "<!-- END QUESTION -->\n",
    "\n",
    "# Q5\n",
    "\n",
    "Implement the L2 norm regularization.\n",
    "\n",
    "Modify your Cost and gradient to implement the l2 norm regularization. \n",
    "Repeat the steps taken in prior tasks and describe your result. \n",
    "\n",
    "* Use a y-intercept.\n",
    "* Do a maximum of 100 iterations as before and report your accuracy, precision, recall and F1 score. \n",
    "* **Optional**: You can stop earlier, if the cost is not changing more than 0.001 between iterations.\n",
    "* **Optional**: You can use the bold driver, if you want. But a bold driver is not required to perform L2 norm regularizaiton.\n",
    "\n",
    "(**4 points** - 2 for code, 1 for cost visualizaiton, 1 for description.)"
   ]
  },
  {
   "cell_type": "markdown",
   "metadata": {},
   "source": [
    "Answer: The L2 norm regularization had the same result as the model with the y-intercept, except the y-intercept model had a slightly lesser cost after 100 iterations than the L2 model. This is a result of the lambda used. Since the lambda we used was 1, the costs were being updated by the full sum of the weights, rather than a product of the weights times a number less than 1. In all, the y-intercept model is better because it got the same metrics while using a lesser cost. "
   ]
  },
  {
   "cell_type": "code",
   "execution_count": 15,
   "metadata": {
    "tags": []
   },
   "outputs": [],
   "source": [
    "# Determine the ridge regression gradient.\n",
    "def gradient_ridge(lamb, weights):\n",
    "    \"\"\"Compute the gradient of the ridge, which we will include in our weight\n",
    "    update in addition to the weighted gradient of each coefficient.\"\"\"\n",
    "    grad_ridge = 2*lamb*(weights)\n",
    "    return grad_ridge"
   ]
  },
  {
   "cell_type": "code",
   "execution_count": 16,
   "metadata": {
    "tags": []
   },
   "outputs": [],
   "source": [
    "# Modify your dataset so that it supports a constant y-intercept term\n",
    "# (Hint: what column would we want to add to our dataset matrix, so that when \n",
    "#        multiplied by the y-intercept, we get the same value every time?)\n",
    "X_mod = heart_df\n",
    "X_mod['yint'] = np.ones(len(X_mod))\n",
    "\n",
    "X_modified = X_mod[['yint','Age','Sex','Chol']].values.reshape(-1, 4)\n",
    "\n",
    "# Split dataset (with intercept)\n",
    "X_train, X_test, y_train, y_test = train_test_split(X_modified, y, 0.2)\n",
    "\n",
    "# Set parameters, just like in Q1:\n",
    "# lr = learning rate\n",
    "# lamb = lambda weight for L2 regularization (*new*)\n",
    "# iterations = number of iterations\n",
    "# cost = mean squared error at each iteration (used to plot)\n",
    "# weights = array of logistic regression weights (but now with a y-intercept weight)\n",
    "lr = 0.00012\n",
    "lamb = 1 # Lambda weight for L2 regularization.\n",
    "iterations = 100\n",
    "costs = []\n",
    "iterCount = []\n",
    "weights = np.zeros(4)\n",
    "\n",
    "# Perform your logistic regression, with L2 norm regularizaiton.\n",
    "for i in range(iterations):\n",
    "\n",
    "    cost_val = cost(X_train, y_train, weights) + (lamb*sum(np.square(weights)))\n",
    "    grad_val = gradient(X_train, y_train, weights)\n",
    "    ridge_val = gradient_ridge(lamb, weights)\n",
    "    \n",
    "    #print('cost:', cost_val)\n",
    "    weights = weights - (lr * (grad_val+ ridge_val))\n",
    "    \n",
    "    iterCount.append(i)\n",
    "    costs.append(cost_val)"
   ]
  },
  {
   "cell_type": "code",
   "execution_count": 17,
   "metadata": {
    "tags": []
   },
   "outputs": [
    {
     "data": {
      "image/png": "[encoded data removed]",
      "text/plain": [
       "<Figure size 640x480 with 1 Axes>"
      ]
     },
     "metadata": {},
     "output_type": "display_data"
    }
   ],
   "source": [
    "# Visualize your costs.\n",
    "plt.plot(iterCount, costs)\n",
    "plt.xlabel('Iteration Number')\n",
    "plt.ylabel('Cost')\n",
    "plt.title('Cost Over Iterations')\n",
    "plt.show()"
   ]
  },
  {
   "cell_type": "code",
   "execution_count": 18,
   "metadata": {
    "tags": []
   },
   "outputs": [
    {
     "name": "stdout",
     "output_type": "stream",
     "text": [
      "\n",
      "Testing set:\n",
      "    Cost     : 0.6902780211300424\n",
      "    Accuracy : 57.377049180327866 %\n",
      "    Precision: 75.0 %\n",
      "    Recall   : 10.714285714285714 %\n",
      "    F1 score : 0.1875\n"
     ]
    }
   ],
   "source": [
    "# Print out metrics.\n",
    "pred = logistic_regression(X_test, weights)\n",
    "cost = costs[-1]\n",
    "acc = accuracy(y_test, pred)\n",
    "pr = precision(y_test, pred)\n",
    "rc = recall(y_test, pred)\n",
    "f1 = f1_score(y_test, pred)\n",
    "\n",
    "print('\\nTesting set:')\n",
    "print('    Cost     :', cost)\n",
    "print('    Accuracy :', acc*100, '%')\n",
    "print('    Precision:', pr*100, '%')\n",
    "print('    Recall   :', rc*100, '%')\n",
    "print('    F1 score :', f1)"
   ]
  },
  {
   "cell_type": "markdown",
   "metadata": {},
   "source": [
    "<!-- END QUESTION -->\n",
    "\n"
   ]
  }
 ],
 "metadata": {
  "kernelspec": {
   "display_name": "Python 3 (ipykernel)",
   "language": "python",
   "name": "python3"
  },
  "language_info": {
   "codemirror_mode": {
    "name": "ipython",
    "version": 3
   },
   "file_extension": ".py",
   "mimetype": "text/x-python",
   "name": "python",
   "nbconvert_exporter": "python",
   "pygments_lexer": "ipython3",
   "version": "3.10.9"
  },
  "otter": {
   "OK_FORMAT": true,
   "assignment_name": "329e_HW06",
   "tests": {
    "q1_computations": {
     "name": "q1_computations",
     "points": 3,
     "suites": [
      {
       "cases": [],
       "scored": true,
       "setup": "",
       "teardown": "",
       "type": "doctest"
      }
     ]
    },
    "q2": {
     "name": "q2",
     "points": 4,
     "suites": [
      {
       "cases": [],
       "scored": true,
       "setup": "",
       "teardown": "",
       "type": "doctest"
      }
     ]
    },
    "q3_computations": {
     "name": "q3_computations",
     "points": 2,
     "suites": [
      {
       "cases": [],
       "scored": true,
       "setup": "",
       "teardown": "",
       "type": "doctest"
      }
     ]
    },
    "q4_computations": {
     "name": "q4_computations",
     "points": 2,
     "suites": [
      {
       "cases": [],
       "scored": true,
       "setup": "",
       "teardown": "",
       "type": "doctest"
      }
     ]
    },
    "q5_computations": {
     "name": "q5_computations",
     "points": 2,
     "suites": [
      {
       "cases": [],
       "scored": true,
       "setup": "",
       "teardown": "",
       "type": "doctest"
      }
     ]
    }
   }
  },
  "vscode": {
   "interpreter": {
    "hash": "bb1ffd02cbd3ddfb2a1e3909b97a8b1d7ede939a054d96ebaf6f1044b5b354c8"
   }
  }
 },
 "nbformat": 4,
 "nbformat_minor": 4
}
